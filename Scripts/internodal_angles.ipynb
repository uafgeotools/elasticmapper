{
 "cells": [
  {
   "cell_type": "code",
   "execution_count": null,
   "id": "initial_id",
   "metadata": {
    "collapsed": true
   },
   "outputs": [],
   "source": [
    "import numpy as np\n",
    "import scipy as sp\n",
    "\n",
    "from change_of_basis import tmat_of_cmat\n",
    "from find_symmetry_groups import proj_to_vsig_of_u_new\n",
    "from find_symmetry_groups import UsHat\n",
    "from plotter import Plotter\n",
    "from utilities import v2sm"
   ]
  },
  {
   "cell_type": "code",
   "execution_count": null,
   "outputs": [],
   "source": [
    "write = False"
   ],
   "metadata": {
    "collapsed": false
   },
   "id": "d19d0957b3abb997"
  },
  {
   "cell_type": "code",
   "execution_count": null,
   "outputs": [],
   "source": [
    "study = \"MSAT\"\n",
    "file_path = \"../data/TX2008.V1.P010.dat\"\n",
    "data = np.loadtxt(file_path)\n",
    "n_material = np.size(data,0)\n",
    "lons = data[:n_material,1]\n",
    "lats = data[:n_material,0]\n",
    "cijs = data[:n_material,3:24]"
   ],
   "metadata": {
    "collapsed": false
   },
   "id": "4b7a846a676fa4b5"
  },
  {
   "cell_type": "code",
   "execution_count": null,
   "outputs": [],
   "source": [
    "betas = np.load(f\"Data/{study}/betas_{study}.npy\")\n",
    "thetas = np.load(f\"Data/{study}/thetas_{study}.npy\")\n",
    "sigmas = np.load(f\"Data/{study}/sigmas_{study}.npy\")\n",
    "phis = np.load(f\"Data/{study}/phis_{study}.npy\")\n",
    "dp_m1 = sp.io.loadmat(f\"Data/{study}/decomp_percentages_{study}.mat\")[\"DP_MS_axes\"]"
   ],
   "metadata": {
    "collapsed": false
   },
   "id": "1288805fddad31a3"
  },
  {
   "cell_type": "code",
   "execution_count": null,
   "outputs": [],
   "source": [
    "def angle(A, B):\n",
    "    a = A.flatten()\n",
    "    b = B.flatten()\n",
    "    return np.rad2deg(np.arccos(np.dot(a,b)/(np.linalg.norm(a)*np.linalg.norm(b))))"
   ],
   "metadata": {
    "collapsed": false
   },
   "id": "6a4a1a4d99d21f84"
  },
  {
   "cell_type": "code",
   "execution_count": null,
   "outputs": [],
   "source": [
    "symmetry_classes = [\"ISO\",\"XISO\",\"TET\",\"ORTH\",\"MONO\"]\n",
    "n_symmetry_classes = len(symmetry_classes)"
   ],
   "metadata": {
    "collapsed": false
   },
   "id": "1e728e2ded9d0108"
  },
  {
   "cell_type": "code",
   "execution_count": null,
   "outputs": [],
   "source": [
    "Y = np.zeros((n_symmetry_classes,n_material))\n",
    "Z = np.zeros((n_symmetry_classes,n_material))\n",
    "for i, sigma in enumerate(symmetry_classes[1:], start=1):\n",
    "    sigma1 = \"ISO\"\n",
    "    sigma2 = symmetry_classes[i-1]\n",
    "    for j in range(n_material):\n",
    "        c_vec = cijs[j,:]\n",
    "        c_mat = v2sm(c_vec)\n",
    "        t_mat = tmat_of_cmat(c_mat)\n",
    "        A1 = proj_to_vsig_of_u_new(t_mat, UsHat([thetas[0,j], sigmas[0,j], phis[0,j]]), sigma1)\n",
    "        A2 = proj_to_vsig_of_u_new(t_mat, UsHat([thetas[i-1,j], sigmas[i-1,j], phis[i-1,j]]), sigma2)\n",
    "        B = proj_to_vsig_of_u_new(t_mat, UsHat([thetas[i,j], sigmas[i,j], phis[i,j]]), sigma)\n",
    "        Y[i,j] = angle(A1,B)\n",
    "        Z[i,j] = angle(A2,B)"
   ],
   "metadata": {
    "collapsed": false
   },
   "id": "9ea7969bf29c8b97"
  },
  {
   "cell_type": "code",
   "execution_count": null,
   "outputs": [],
   "source": [
    "plot = Plotter(lons, lats, central_longitude=0, write=write)"
   ],
   "metadata": {
    "collapsed": false
   },
   "id": "c81189233bc85fb6"
  },
  {
   "cell_type": "code",
   "execution_count": null,
   "outputs": [],
   "source": [
    "for i, sigma in enumerate(symmetry_classes[1:], start=1):\n",
    "    sigma1 = \"ISO\"\n",
    "    sigma2 = symmetry_classes[i-1]\n",
    "    x = betas[i,:]\n",
    "    y = Y[i,:]\n",
    "    z = Z[i,:]\n",
    "    xlabel = f\"angle({sigma},TRIV)\"    \n",
    "    ylabel = f\"angle({sigma1},{sigma})\"\n",
    "    zlabel = f\"angle({sigma2},{sigma})\"\n",
    "    filename = f\"angles_{sigma}_{study}\"\n",
    "    plot.multi_correlation_plots(x, y, z, xlabel, ylabel, zlabel, trend=True, aspect=\"equal\", filename=filename)"
   ],
   "metadata": {
    "collapsed": false
   },
   "id": "dfb66f55ef6a5421"
  },
  {
   "cell_type": "code",
   "execution_count": null,
   "outputs": [],
   "source": [
    "x = betas[0,:]\n",
    "y = Y[1,:]\n",
    "cmap1 = [\"RdYlGn\", False, 0.00, 4.00]\n",
    "cmap2 = [\"RdYlGn\", False, 0.00, 3.50]\n",
    "xlabel = r\"$\\beta_{ISO}$ (°)\"\n",
    "ylabel = f\"angle(ISO,XISO)\"\n",
    "filename = f\"angle_ISO_XISO_beta_ISO_{study}\"\n",
    "plot.correlation_plots(x, y, xlabel, ylabel, cmaps1=cmap1, cmaps2=cmap2, residual=False, trend=True, aspect=\"equal\", filename=filename)"
   ],
   "metadata": {
    "collapsed": false
   },
   "id": "7933e874361b5de7"
  },
  {
   "cell_type": "code",
   "execution_count": null,
   "outputs": [],
   "source": [
    "x = dp_m1[:,1] * 100\n",
    "y = Y[1,:]\n",
    "cmap1 = [\"jet\", False, 0.00, 4.00]\n",
    "cmap2 = [\"jet\", False, 0.00, 3.50]\n",
    "xlabel = f\"HEX_percentage\"\n",
    "ylabel = f\"angle(ISO,XISO)\"\n",
    "filename = f\"angle_ISO_XISO_HEX_percentage_{study}\"\n",
    "plot.correlation_plots(x, y, xlabel, ylabel, cmaps1=cmap1, cmaps2=cmap2, residual=False, aspect=\"equal\", filename=filename)\n",
    "\n",
    "correlation_matrix = np.corrcoef(x, y)\n",
    "correlation_coefficient = correlation_matrix[0,1]\n",
    "print(f\"The correlation coefficient is {correlation_coefficient}\")"
   ],
   "metadata": {
    "collapsed": false
   },
   "id": "abbca8a390adb65d"
  }
 ],
 "metadata": {
  "kernelspec": {
   "display_name": "Python 3",
   "language": "python",
   "name": "python3"
  },
  "language_info": {
   "codemirror_mode": {
    "name": "ipython",
    "version": 2
   },
   "file_extension": ".py",
   "mimetype": "text/x-python",
   "name": "python",
   "nbconvert_exporter": "python",
   "pygments_lexer": "ipython2",
   "version": "2.7.6"
  }
 },
 "nbformat": 4,
 "nbformat_minor": 5
}
