{
 "cells": [
  {
   "cell_type": "code",
   "source": [
    "import concurrent.futures\n",
    "import os\n",
    "from functools import partial\n",
    "\n",
    "import numpy as np\n",
    "\n",
    "from safe_module import distance"
   ],
   "metadata": {
    "collapsed": false
   },
   "id": "dfba1bc73bd5695f",
   "outputs": [],
   "execution_count": null
  },
  {
   "cell_type": "code",
   "source": [
    "write = False"
   ],
   "metadata": {
    "collapsed": false
   },
   "id": "539a5a66736705f0",
   "outputs": [],
   "execution_count": null
  },
  {
   "cell_type": "code",
   "source": [
    "study = \"MSAT\"\n",
    "file_path = \"../data/TX2008.V1.P010.dat\"\n",
    "data = np.loadtxt(file_path)\n",
    "n_material = np.size(data,0)\n",
    "lons = data[:n_material,1]\n",
    "lats = data[:n_material,0]\n",
    "cijs = data[:n_material,3:24]"
   ],
   "metadata": {
    "collapsed": false
   },
   "id": "e80bb5f3fdd67fe1",
   "outputs": [],
   "execution_count": null
  },
  {
   "cell_type": "code",
   "source": [
    "symmetry_classes = [\"ISO\", \"XISO\", \"TET\", \"ORTH\", \"MONO\"]\n",
    "\n",
    "n_symmetry_classes = len(symmetry_classes)"
   ],
   "metadata": {
    "collapsed": false
   },
   "id": "955df701a1e5f2cf",
   "outputs": [],
   "execution_count": null
  },
  {
   "cell_type": "code",
   "source": [
    "betas = np.empty((n_symmetry_classes, n_material))\n",
    "thetas = np.empty((n_symmetry_classes, n_material))\n",
    "sigmas = np.empty((n_symmetry_classes, n_material))\n",
    "phis = np.empty((n_symmetry_classes, n_material))"
   ],
   "metadata": {
    "collapsed": false
   },
   "id": "e768663fa7fe2aa1",
   "outputs": [],
   "execution_count": null
  },
  {
   "cell_type": "code",
   "source": [
    "num_workers = os.cpu_count()\n",
    "tracker = np.arange(n_material)\n",
    "c_vecs = [cijs[i,:] for i in range(n_material)]\n",
    "\n",
    "for i, sigma in enumerate(symmetry_classes):\n",
    "\n",
    "    print(f'running minimizer for symmetry class: {sigma}')\n",
    "\n",
    "    distance_new = partial(distance, use_parallel_processing=False)\n",
    "    with concurrent.futures.ProcessPoolExecutor(max_workers=num_workers) as executor:\n",
    "        futures = list(executor.map(distance_new, c_vecs, [sigma]*n_material, tracker))\n",
    "\n",
    "    for j in range(n_material):\n",
    "        betas[i,j], thetas[i,j], sigmas[i,j], phis[i,j] = futures[j]"
   ],
   "metadata": {
    "collapsed": false
   },
   "id": "4913c87865a1a508",
   "outputs": [],
   "execution_count": null
  },
  {
   "cell_type": "code",
   "source": [
    "if write:\n",
    "    np.save(f'betas_{study}', betas)\n",
    "    np.save(f'thetas_{study}', thetas)\n",
    "    np.save(f'sigmas_{study}', sigmas)\n",
    "    np.save(f'phis_{study}', phis)"
   ],
   "metadata": {
    "collapsed": true
   },
   "id": "initial_id",
   "outputs": [],
   "execution_count": null
  }
 ],
 "metadata": {
  "kernelspec": {
   "display_name": "Python 3",
   "language": "python",
   "name": "python3"
  },
  "language_info": {
   "codemirror_mode": {
    "name": "ipython",
    "version": 2
   },
   "file_extension": ".py",
   "mimetype": "text/x-python",
   "name": "python",
   "nbconvert_exporter": "python",
   "pygments_lexer": "ipython2",
   "version": "2.7.6"
  }
 },
 "nbformat": 4,
 "nbformat_minor": 5
}
