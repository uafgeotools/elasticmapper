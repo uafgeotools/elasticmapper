{
 "cells": [
  {
   "cell_type": "code",
   "execution_count": null,
   "id": "initial_id",
   "metadata": {
    "collapsed": true
   },
   "outputs": [],
   "source": [
    "import matplotlib.pyplot as plt\n",
    "import numpy as np\n",
    "import sys\n",
    "\n",
    "sys.path.append('..')\n",
    "\n",
    "from change_of_basis import cmat_of_tmat\n",
    "from ES_ContourPlots import ES_ContourPlots\n",
    "from safe_module import closest\n",
    "from safe_module import distance\n",
    "from utilities import sm2v"
   ]
  },
  {
   "cell_type": "code",
   "execution_count": null,
   "outputs": [],
   "source": [
    "plt.rcParams['lines.markersize'] = 3"
   ],
   "metadata": {
    "collapsed": false
   },
   "id": "44c3a377cf68b44c"
  },
  {
   "cell_type": "code",
   "execution_count": null,
   "outputs": [],
   "source": [
    "write = False"
   ],
   "metadata": {
    "collapsed": false
   },
   "id": "b5962e12488eec5a"
  },
  {
   "cell_type": "code",
   "execution_count": null,
   "outputs": [],
   "source": [
    "Tmat_Mar17 = np.array([[206.2220, -67.43760,  17.062000, -15.891500, 166.6290, -19.50160],\n",
    "                       [-67.4376, 352.85800,  32.240600,   3.303830,  61.6098, -41.62510],\n",
    "                       [ 17.0620,  32.24060, 343.803000,   0.355839,  73.5722,  -4.22981],\n",
    "                       [-15.8915,   3.30383,   0.355839, 269.972000,  88.7527,  13.32260],\n",
    "                       [166.6290,  61.60980,  73.572200,  88.752700, 287.1460,  30.71890],\n",
    "                       [-19.5016, -41.62510,  -4.229810,  13.322600,  30.7189,  74.00000]])\n",
    "\n",
    "Tmat_Mar17_MONO = closest(Tmat_Mar17, 'MONO')\n",
    "Tmat_Mar17_TRIG = closest(Tmat_Mar17, 'TRIG')"
   ],
   "metadata": {
    "collapsed": false
   },
   "id": "1dfb9f0c4a7dae75"
  },
  {
   "cell_type": "code",
   "execution_count": null,
   "outputs": [],
   "source": [
    "t_mat1 = Tmat_Mar17_MONO\n",
    "t_mat2 = Tmat_Mar17_TRIG\n",
    "\n",
    "npts = 21\n",
    "data_size = npts\n",
    "\n",
    "frac = np.linspace(0,1,npts)\n",
    "c_vecs = []\n",
    "\n",
    "for i in range(npts):\n",
    "    t_mat_test = (1-frac[i]) * t_mat1 + (frac[i]) * t_mat2\n",
    "    c_mat_test = cmat_of_tmat(t_mat_test)\n",
    "    c_vec_test = sm2v(c_mat_test)\n",
    "    c_vecs.append(c_vec_test)"
   ],
   "metadata": {
    "collapsed": false
   },
   "id": "423c69bf793d95a4"
  },
  {
   "cell_type": "code",
   "execution_count": null,
   "outputs": [],
   "source": [
    "# Distance to MONO computation for TRIG to CUBE maps\n",
    "\n",
    "sigma = 'MONO'\n",
    "\n",
    "results_gradient_MONO = []\n",
    "results_evolution_MONO = []\n",
    "\n",
    "for i in range(data_size):\n",
    "    print(f'running iteration {i+1} ....') \n",
    "    results_gradient_MONO.append(distance(c_vecs[i], sigma, method='gradient')) \n",
    "    results_evolution_MONO.append(distance(c_vecs[i], sigma, method='differential_evolution'))\n",
    "    \n",
    "betas1, thetas1, sigmas1, phis1 = list(zip(*results_gradient_MONO))\n",
    "betas2, thetas2, sigmas2, phis2 = list(zip(*results_evolution_MONO))\n",
    "        \n",
    "plt.figure()\n",
    "plt.scatter(frac,betas1,c='r',label='gradient')\n",
    "plt.scatter(frac,betas2,c='k',label='evolution')\n",
    "plt.legend()\n",
    "plt.show()\n",
    "\n",
    "plt.figure()\n",
    "plt.scatter(frac,betas1,c='r',label='gradient')\n",
    "plt.legend()\n",
    "plt.show()\n",
    "\n",
    "plt.figure()\n",
    "plt.scatter(frac,betas2,c='k',label='evolution')\n",
    "plt.legend()\n",
    "plt.show()"
   ],
   "metadata": {
    "collapsed": false
   },
   "id": "b09628380347d1ff"
  },
  {
   "cell_type": "code",
   "execution_count": null,
   "outputs": [],
   "source": [
    "Tmat_X = np.array([[200.46900, -52.7324,   5.14186,  -6.85209, 165.2910, -33.03500],\n",
    "                   [-52.73240, 354.7150,  30.43570, -16.35770,  73.8987, -13.62210],\n",
    "                   [  5.14186,  30.4357, 326.17600, -14.93470,  56.6892,   4.73322],\n",
    "                   [ -6.85209, -16.3577, -14.93470, 294.34800,  86.4122,  -2.17850],\n",
    "                   [165.29100,  73.8987,  56.68920,  86.41220, 284.2920,  22.64750],\n",
    "                   [-33.03500, -13.6221,   4.73322,  -2.17850,  22.6475,  74.00000]])"
   ],
   "metadata": {
    "collapsed": false
   },
   "id": "fe5d4ad4be5fd007"
  },
  {
   "cell_type": "code",
   "execution_count": null,
   "outputs": [],
   "source": [
    "Sigma = 'MONO'\n",
    "Cvec_X = sm2v(Tmat_X)\n",
    "plt = ES_ContourPlots(Tmat_X, Sigma)\n",
    "\n",
    "for i in range(100):\n",
    "    print(f'running iteration {i} ....')\n",
    "    beta, theta, sigma, phi = distance(Cvec_X, Sigma, method='differential_evolution', \n",
    "                                       popsize=10, number_of_runs=1)\n",
    "    plt.scatter(theta, phi, marker='x', c='w',s=100)\n",
    "    \n",
    "if write: plt.savefig('differential_evolution.png', bbox_inches='tight')"
   ],
   "metadata": {
    "collapsed": false
   },
   "id": "476ed1899da11483"
  },
  {
   "cell_type": "code",
   "execution_count": null,
   "outputs": [],
   "source": [
    "Sigma = 'MONO'\n",
    "Cvec_X = sm2v(Tmat_X)\n",
    "plt = ES_ContourPlots(Tmat_X, Sigma)\n",
    "\n",
    "for i in range(2500):\n",
    "    print(f'running iteration {i} ....')\n",
    "    beta, theta, sigma, phi = distance(Cvec_X, Sigma, method='gradient', sample_size=1, use_parallel_processing=False)\n",
    "    plt.scatter(theta, phi, marker='+', c='r',s=100)\n",
    "    \n",
    "if write: plt.savefig('gradient.png', bbox_inches='tight')"
   ],
   "metadata": {
    "collapsed": false
   },
   "id": "f220761fb3fef69a"
  }
 ],
 "metadata": {
  "kernelspec": {
   "display_name": "Python 3",
   "language": "python",
   "name": "python3"
  },
  "language_info": {
   "codemirror_mode": {
    "name": "ipython",
    "version": 2
   },
   "file_extension": ".py",
   "mimetype": "text/x-python",
   "name": "python",
   "nbconvert_exporter": "python",
   "pygments_lexer": "ipython2",
   "version": "2.7.6"
  }
 },
 "nbformat": 4,
 "nbformat_minor": 5
}
