{
 "cells": [
  {
   "cell_type": "code",
   "execution_count": null,
   "metadata": {
    "collapsed": true
   },
   "outputs": [],
   "source": [
    "import concurrent.futures\n",
    "import os\n",
    "import sys\n",
    "from functools import partial\n",
    "\n",
    "sys.path.append('..')\n",
    "\n",
    "import matplotlib.pyplot as plt\n",
    "import numpy as np\n",
    "\n",
    "from materials import get_materials_Cvec\n",
    "from safe_module import distance\n",
    "from themes import colors\n",
    "from themes import symmetry_classes"
   ]
  },
  {
   "cell_type": "code",
   "execution_count": null,
   "outputs": [],
   "source": [
    "temperatures_WG2D = [100, 200, 400, 600]"
   ],
   "metadata": {
    "collapsed": false
   }
  },
  {
   "cell_type": "code",
   "execution_count": null,
   "outputs": [],
   "source": [
    "c_vecs = get_materials_Cvec(material=\"Lokajicek\")\n",
    "c_vecs = c_vecs[:4]\n",
    "n_materials = len(c_vecs)\n",
    "n_temperatures_WG2D = len(temperatures_WG2D)\n",
    "\n",
    "n_symmetry_classes = len(symmetry_classes)\n",
    "\n",
    "num_workers = os.cpu_count()\n",
    "\n",
    "betas_WG2D = np.zeros((n_symmetry_classes, n_temperatures_WG2D))\n",
    "\n",
    "c_vecs   = c_vecs * n_symmetry_classes\n",
    "sigmas   = [sigma for sigma in symmetry_classes for _ in range(n_materials)]\n",
    "\n",
    "distance_new = partial(distance, use_parallel_processing=False)\n",
    "with concurrent.futures.ProcessPoolExecutor(max_workers=num_workers) as executor:\n",
    "    results = list(executor.map(distance_new, c_vecs, sigmas))\n",
    "\n",
    "betas, thetas, sigmas, phis = list(zip(*results)) \n",
    "\n",
    "for i in range(n_symmetry_classes):\n",
    "    index = i * n_materials\n",
    "    betas_WG2D[i,:]  = betas[index : index+n_materials]"
   ],
   "metadata": {
    "collapsed": false
   }
  },
  {
   "cell_type": "code",
   "execution_count": null,
   "outputs": [],
   "source": [
    "plt.figure(figsize=(6,10))\n",
    "\n",
    "for i, sym_class in enumerate(symmetry_classes):\n",
    "    plt.scatter(temperatures_WG2D, betas_WG2D[i], color=colors[sym_class], s=30, label=sym_class)\n",
    "    plt.plot(temperatures_WG2D, betas_WG2D[i], color=colors[sym_class])\n",
    "\n",
    "plt.legend(loc=2, fontsize=13, title=r'${\\Sigma}$ (WG2D)', title_fontsize=15)\n",
    "plt.xticks(fontsize=15)\n",
    "plt.yticks(fontsize=15)\n",
    "plt.grid()\n",
    "plt.xlabel(\"Temperature (°C)\", fontsize=20)\n",
    "plt.ylabel(r'$\\beta_{\\Sigma}$ (°)', fontsize=20)\n",
    "#plt.savefig('WG2D.png')"
   ],
   "metadata": {
    "collapsed": false
   }
  },
  {
   "cell_type": "code",
   "execution_count": null,
   "outputs": [],
   "source": [
    "# Analysis for Lokajicek et al. 2021 Table 3 materials\n",
    "# US Velocities Inversion -\n",
    "# - WG100 (0.1 MPa)\n",
    "# - WG100 (400 MPa)\n",
    "# - WG600 (0.1 MPa)\n",
    "# - WG600 (400 MPa)\n",
    "\n",
    "materials = ['WG100 (0.1MPa)','WG100 (400MPa)','WG600 (0.1MPa)','WG600 (400MPa)']\n",
    "symmetry_classes = ['MONO','ORTH','TET','TRIG','XISO','CUBE','ISO']\n",
    "\n",
    "c_vecs = get_materials_Cvec(material=\"Lokajicek\")\n",
    "c_vecs = c_vecs[4:]\n",
    "\n",
    "n_materials = len(materials)\n",
    "n_symmetry_classes = len(symmetry_classes)\n",
    "\n",
    "num_workers = os.cpu_count()\n",
    "\n",
    "betas_all = np.zeros((n_materials, n_symmetry_classes))\n",
    "\n",
    "c_vecs   = c_vecs * n_symmetry_classes\n",
    "sigmas   = [sigma for sigma in symmetry_classes for _ in range(n_materials)]\n",
    "\n",
    "distance_new = partial(distance, use_parallel_processing=False)\n",
    "with concurrent.futures.ProcessPoolExecutor(max_workers=num_workers) as executor:\n",
    "    results = list(executor.map(distance_new, c_vecs, sigmas))\n",
    "\n",
    "betas, thetas, sigmas, phis = list(zip(*results))\n",
    "\n",
    "for i in range(n_materials):\n",
    "    index = np.arange(n_symmetry_classes) * n_materials + i\n",
    "    betas_all[i,:]  = np.array([betas[ind] for ind in index])"
   ],
   "metadata": {
    "collapsed": false
   }
  },
  {
   "cell_type": "code",
   "execution_count": null,
   "outputs": [],
   "source": [
    "plt.figure(figsize=(7,10))\n",
    "\n",
    "x = np.arange(n_symmetry_classes)\n",
    "\n",
    "for i, material in enumerate(materials):\n",
    "    plt.scatter(x, betas_all[i], s=30, label=material)\n",
    "    plt.plot(x, betas_all[i],)\n",
    "\n",
    "plt.xticks(x, symmetry_classes, fontsize=15)\n",
    "plt.yticks(fontsize=15)\n",
    "plt.legend(loc=2, fontsize=13)\n",
    "plt.grid()\n",
    "plt.ylabel(r'$\\beta$ (°)', fontsize=20)\n",
    "#plt.savefig('Lokajicek_Table3.png')"
   ],
   "metadata": {
    "collapsed": false
   }
  }
 ],
 "metadata": {
  "kernelspec": {
   "display_name": "Python 3",
   "language": "python",
   "name": "python3"
  },
  "language_info": {
   "codemirror_mode": {
    "name": "ipython",
    "version": 2
   },
   "file_extension": ".py",
   "mimetype": "text/x-python",
   "name": "python",
   "nbconvert_exporter": "python",
   "pygments_lexer": "ipython2",
   "version": "2.7.6"
  }
 },
 "nbformat": 4,
 "nbformat_minor": 0
}
