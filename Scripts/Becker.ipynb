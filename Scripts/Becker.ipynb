{
 "cells": [
  {
   "cell_type": "code",
   "outputs": [],
   "source": [
    "import numpy as np\n",
    "import scipy as sp\n",
    "\n",
    "from plotter import Plotter"
   ],
   "metadata": {
    "collapsed": false
   },
   "id": "da01a4a57c05d5fc",
   "execution_count": null
  },
  {
   "cell_type": "code",
   "outputs": [],
   "source": [
    "write = True"
   ],
   "metadata": {
    "collapsed": false
   },
   "id": "937c90e1701e4389",
   "execution_count": null
  },
  {
   "cell_type": "code",
   "outputs": [],
   "source": [
    "study = \"Becker\"\n",
    "file_path = \"../data/safs417nc3_er.s.0.75.WLD.200.savd.dat\"\n",
    "data = np.loadtxt(file_path)\n",
    "n_materials = np.size(data,0)\n",
    "lons = data[:n_materials,0]\n",
    "lats = data[:n_materials,1]\n",
    "cijs = data[:n_materials,3:24]"
   ],
   "metadata": {
    "collapsed": false
   },
   "id": "36ec9b9c182735ce",
   "execution_count": null
  },
  {
   "cell_type": "code",
   "outputs": [],
   "source": [
    "betas = np.load(f\"Data/{study}/betas_{study}.npy\")\n",
    "dp_m1 = sp.io.loadmat(f\"Data/{study}/decomp_percentages_{study}.mat\")[\"DP_MS_axes\"]\n",
    "dp_m2 = sp.io.loadmat(f\"Data/{study}/decomp_percentages_{study}.mat\")[\"DP_MS_axes_X3_stiff\"]\n",
    "dp_m3 = sp.io.loadmat(f\"Data/{study}/decomp_percentages_{study}.mat\")[\"DP_I\"]\n",
    "dp_s1 = np.loadtxt(f\"Data/Becker/tens.200.dat\")\n",
    "dp_s1[:,0] = 1 - dp_s1[:,0]"
   ],
   "metadata": {
    "collapsed": false
   },
   "id": "9d64a3b9c16de38e",
   "execution_count": null
  },
  {
   "cell_type": "code",
   "outputs": [],
   "source": [
    "def cumulation(decomp_percentages):\n",
    "    n = decomp_percentages.shape[1]\n",
    "    cumulative_percentages = np.copy(decomp_percentages)\n",
    "    for i in range(1,n):\n",
    "        cumulative_percentages[:,i] += cumulative_percentages[:,i-1]\n",
    "    return cumulative_percentages\n",
    "\n",
    "def get_alpha(p_cumulative):\n",
    "    return np.rad2deg(np.arcsin(1 - p_cumulative)) \n",
    "        \n",
    "cumulative_dp_m1 = cumulation(dp_m1)\n",
    "cumulative_dp_m2 = cumulation(dp_m2)\n",
    "cumulative_dp_m3 = cumulation(dp_m3)\n",
    "\n",
    "alphas_m1 = np.zeros(np.shape(dp_m1))\n",
    "alphas_m2 = np.zeros(np.shape(dp_m2))\n",
    "alphas_m3 = np.zeros(np.shape(dp_m3))\n",
    "for i in range(dp_m1.shape[1]):\n",
    "    alphas_m1[:,i] = get_alpha(cumulative_dp_m1[:,i])\n",
    "    alphas_m2[:,i] = get_alpha(cumulative_dp_m2[:,i])\n",
    "    alphas_m3[:,i] = get_alpha(cumulative_dp_m3[:,i])"
   ],
   "metadata": {
    "collapsed": false
   },
   "id": "57c62fb0acb53019",
   "execution_count": null
  },
  {
   "cell_type": "code",
   "outputs": [],
   "source": [
    "symmetry_classes = [\"ISO\",\"XISO\",\"TET\",\"ORTH\",\"MONO\"]"
   ],
   "metadata": {
    "collapsed": false
   },
   "id": "4ac08130aea617d9",
   "execution_count": null
  },
  {
   "cell_type": "code",
   "outputs": [],
   "source": [
    "# alpha vs beta cmaps\n",
    "\n",
    "cmaps1 = [('RdYlGn', False, None, None),\n",
    "          (   'jet', False,  0.0, 1.20),\n",
    "          (  'BrBG', False,  0.0, 1.20),\n",
    "          (  'PiYG', False,  0.0, 0.60),\n",
    "          (  'PRGn', False,  0.0, 0.60)]\n",
    "\n",
    "rcmaps1 = [( 'Reds', False, None, None),\n",
    "           ( 'Reds', False,  0.0, 0.02),\n",
    "           ( 'Reds', False,  0.0, 0.02),\n",
    "           ( 'Reds', False,  0.0, 0.10),\n",
    "           ( 'Reds', False,  0.0, 0.60)]"
   ],
   "metadata": {
    "collapsed": false
   },
   "id": "1d2944496161deb5",
   "execution_count": null
  },
  {
   "cell_type": "code",
   "outputs": [],
   "source": [
    "plot = Plotter(lons, lats, central_longitude=180, write=write)"
   ],
   "metadata": {
    "collapsed": false
   },
   "id": "ad9b2bc92466d952",
   "execution_count": null
  },
  {
   "cell_type": "code",
   "outputs": [],
   "source": [
    "# alpha vs beta\n",
    "\n",
    "for i, sigma in enumerate(symmetry_classes):\n",
    "    x = betas[i,:]\n",
    "    y = alphas_m1[:,i]\n",
    "    xlabel = fr\"$\\beta_{{{sigma}}}$ (°)\"    \n",
    "    ylabel = fr\"$\\alpha_{{{sigma}}}$ (°)\"   \n",
    "    filename = f\"alpha_beta_{sigma}_{study}\"\n",
    "    plot.correlation_plots(x, y, xlabel, ylabel, cmaps1=cmaps1[i], residual=True, rcmaps=rcmaps1[i], trend=True, aspect=\"equal\", filename=filename)"
   ],
   "metadata": {
    "collapsed": false
   },
   "id": "ae526e9875ac6b94",
   "execution_count": null
  },
  {
   "cell_type": "code",
   "outputs": [],
   "source": [
    "# sigma_percentage_sav2decompose vs sigma_percentage_MSAT cmaps\n",
    "\n",
    "cmaps2 = [['RdYlGn',  True, None, None],\n",
    "          [   'jet',  True,  0.0, 9.00],\n",
    "          [  'BrBG',  True,  0.0, 0.05],\n",
    "          [  'PiYG',  True,  0.0, 2.00],\n",
    "          [  'PRGn',  True,  0.0, 0.20]]\n",
    "\n",
    "rcmaps2 = [['seismic', False,   None,  None],\n",
    "           [   'Reds', False,  0.000, 1.000],\n",
    "           ['seismic', False, -0.025, 0.025],\n",
    "           ['seismic', False, -0.250, 0.250],\n",
    "           ['seismic', False, -0.200, 0.200]]"
   ],
   "metadata": {
    "collapsed": false
   },
   "id": "d99b2162601e3abc",
   "execution_count": null
  },
  {
   "cell_type": "code",
   "outputs": [],
   "source": [
    "# sigma_percentage_sav2decompose vs sigma_percentage_MSAT\n",
    "\n",
    "for i, sigma in enumerate(symmetry_classes):\n",
    "    \n",
    "    sigma2 = sigma\n",
    "    if sigma==\"XISO\": sigma2 = \"HEX\"\n",
    "     \n",
    "    x = dp_m1[:,i] * 100    \n",
    "    y = dp_s1[:,i] * 100\n",
    "    xlabel = f\"{sigma2}_percent_MSAT\"\n",
    "    ylabel = f\"{sigma2}_percent_sav2decompose\"\n",
    "    filename = f\"percentage_sav2decompose_percentage_MSAT_{sigma2}_{study}\"\n",
    "    plot.correlation_plots(x, y, xlabel, ylabel, cmaps1=cmaps2[i], residual=True, rcmaps=rcmaps2[i], trend=True, aspect=\"equal\", filename=filename)"
   ],
   "metadata": {
    "collapsed": false
   },
   "id": "88009f79d0ee8ae1",
   "execution_count": null
  },
  {
   "cell_type": "code",
   "outputs": [],
   "source": [
    "# sigma_percentage_sav2decompose vs sigma_percentage_MSAT - test tensor\n",
    "\n",
    "test_tensor = 9179\n",
    "plot_highlight = Plotter(lons, lats, central_longitude=180, write=write, highlight=test_tensor)\n",
    "\n",
    "for i in [1,3]:\n",
    "    \n",
    "    sigma = symmetry_classes[i]\n",
    "    sigma2 = sigma\n",
    "    if sigma==\"XISO\": sigma2 = \"HEX\"\n",
    "     \n",
    "    x = dp_m1[:,i] * 100    \n",
    "    y = dp_s1[:,i] * 100\n",
    "    xlabel = f\"{sigma2}_percent_MSAT\"\n",
    "    ylabel = f\"{sigma2}_percent_sav2decompose\"\n",
    "    \n",
    "    filename = f\"percentage_sav2decompose_percentage_MSAT_{sigma2}_{study}_highlighted\"\n",
    "    plot_highlight.correlation_plots(x, y, xlabel, ylabel, cmaps1=cmaps2[i], residual=True, rcmaps=rcmaps2[i], trend=True, aspect=\"equal\", filename=filename)\n",
    "    \n",
    "    filename = f\"percentage_sav2decompose_percentage_MSAT_correlation_{sigma2}_{study}_highlighted\"\n",
    "    plot_highlight.correlation_plot(x, y, xlabel, ylabel, filename=filename)"
   ],
   "metadata": {
    "collapsed": false
   },
   "id": "fe42763ae55fd7d8",
   "execution_count": null
  },
  {
   "cell_type": "code",
   "outputs": [],
   "source": [
    "# sigma_percentage_MSAT vs beta_sigma\n",
    "\n",
    "for i in [1,3]:\n",
    "    \n",
    "    sigma = symmetry_classes[i]\n",
    "    sigma2 = sigma\n",
    "    if sigma==\"XISO\": sigma2 = \"HEX\"\n",
    "\n",
    "    x = betas[i,:]\n",
    "    y = dp_m1[:,i] * 100\n",
    "    xlabel = fr\"$\\beta_{{{sigma}}}$ (°)\"    \n",
    "    ylabel = f\"{sigma2}_percentage_MSAT\"\n",
    "    filename = f\"{sigma2}_percentage_MSAT_beta_{sigma}_{study}\"\n",
    "    plot.correlation_plots(x, y, xlabel, ylabel, cmaps1=cmaps1[i], cmaps2=cmaps2[i], residual=False, filename=filename)"
   ],
   "metadata": {
    "collapsed": false
   },
   "id": "eb6fba8e8fcae730",
   "execution_count": null
  },
  {
   "cell_type": "code",
   "outputs": [],
   "source": [
    "# HEX_percentage_MSAT vs beta_XISO - test tensor\n",
    "\n",
    "test_tensor = 12794\n",
    "plot_highlight = Plotter(lons, lats, central_longitude=180, write=write, highlight=test_tensor)\n",
    "\n",
    "for i in [1]:\n",
    "    \n",
    "    sigma = symmetry_classes[i]\n",
    "    sigma2 = sigma\n",
    "    if sigma==\"XISO\": sigma2 = \"HEX\"\n",
    "     \n",
    "    x = betas[i,:]\n",
    "    y = dp_m1[:,i] * 100\n",
    "    xlabel = fr\"$\\beta_{{{sigma}}}$ (°)\"    \n",
    "    ylabel = f\"{sigma2}_percentage_MSAT\"\n",
    "    filename = f\"{sigma2}_percentage_MSAT_beta_{sigma}_{study}_highlighted\"\n",
    "    plot_highlight.correlation_plots(x, y, xlabel, ylabel, cmaps1=cmaps1[i], cmaps2=cmaps2[i], residual=False, filename=filename)"
   ],
   "metadata": {
    "collapsed": false
   },
   "id": "90e0fdcf46cf86bb",
   "execution_count": null
  },
  {
   "cell_type": "code",
   "outputs": [],
   "source": [
    "# alpha variates vs beta For XISO\n",
    "\n",
    "rcmaps = [( 'Reds', False,  0.0, 0.02),\n",
    "          ( 'Reds', False,  0.0, 3.00),\n",
    "          ( 'Reds', False,  0.0, 4.00)]\n",
    "\n",
    "# alpha_MS_axes vs beta\n",
    "for i, sigma in enumerate([\"XISO\"], start=1):\n",
    "    x = betas[i,:]\n",
    "    y = alphas_m1[:,i]\n",
    "    xlabel = fr\"$\\beta_{{{sigma}}}$ (°)\"    \n",
    "    ylabel = fr\"$\\alpha_{{{sigma}}}$ (°) (MS_axes)\"   \n",
    "    filename = f\"alpha_MS_axes_beta_{sigma}_{study}\"\n",
    "    plot.correlation_plots(x, y, xlabel, ylabel, cmaps1=cmaps1[i], residual=True, rcmaps=rcmaps[0], trend=True, aspect=\"equal\", filename=filename)\n",
    "\n",
    "# alpha_MS_axes_X3_stiff vs beta\n",
    "for i, sigma in enumerate([\"XISO\"], start=1):\n",
    "    x = betas[i,:]\n",
    "    y = alphas_m2[:,i]\n",
    "    xlabel = fr\"$\\beta_{{{sigma}}}$ (°)\"    \n",
    "    ylabel = fr\"$\\alpha_{{{sigma}}}$ (°) (MS_axes_X3_stiff)\"   \n",
    "    filename = f\"alpha_MS_axes_X3_stiff_beta_{sigma}_{study}\"\n",
    "    plot.correlation_plots(x, y, xlabel, ylabel, cmaps1=cmaps1[i], residual=True, rcmaps=rcmaps[1], trend=True, aspect=\"equal\", filename=filename)\n",
    "\n",
    "# alpha_I vs beta\n",
    "for i, sigma in enumerate([\"XISO\"], start=1):\n",
    "    x = betas[i,:]\n",
    "    y = alphas_m3[:,i]\n",
    "    xlabel = fr\"$\\beta_{{{sigma}}}$ (°)\"    \n",
    "    ylabel = fr\"$\\alpha_{{{sigma}}}$ (°) (I)\"   \n",
    "    filename = f\"alpha_I_beta_{sigma}_{study}\"\n",
    "    plot.correlation_plots(x, y, xlabel, ylabel, cmaps1=cmaps1[i], residual=True, rcmaps=rcmaps[2], trend=True, aspect=\"equal\", filename=filename)"
   ],
   "metadata": {
    "collapsed": false
   },
   "id": "acdb365411fdd254",
   "execution_count": null
  }
 ],
 "metadata": {
  "kernelspec": {
   "display_name": "Python 3",
   "language": "python",
   "name": "python3"
  },
  "language_info": {
   "codemirror_mode": {
    "name": "ipython",
    "version": 2
   },
   "file_extension": ".py",
   "mimetype": "text/x-python",
   "name": "python",
   "nbconvert_exporter": "python",
   "pygments_lexer": "ipython2",
   "version": "2.7.6"
  }
 },
 "nbformat": 4,
 "nbformat_minor": 5
}
