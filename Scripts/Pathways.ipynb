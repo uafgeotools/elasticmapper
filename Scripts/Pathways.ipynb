{
 "cells": [
  {
   "cell_type": "code",
   "execution_count": null,
   "id": "initial_id",
   "metadata": {
    "collapsed": true
   },
   "outputs": [],
   "source": [
    "import concurrent.futures\n",
    "import matplotlib.pyplot as plt\n",
    "import numpy as np\n",
    "import os\n",
    "import sys\n",
    "from functools import partial\n",
    "\n",
    "sys.path.append('..')\n",
    "\n",
    "from change_of_basis import cmat_of_tmat\n",
    "from change_of_basis import tmat_of_cmat\n",
    "from ES_ContourPlots import ES_ContourPlots\n",
    "from find_symmetry_groups import UsHat\n",
    "from find_symmetry_groups import proj_to_vsig_of_u_new\n",
    "from materials import get_materials_Cvec\n",
    "from safe_module import closest\n",
    "from safe_module import distance\n",
    "from safe_module import GetTempAndT0S0P0\n",
    "from themes import colors\n",
    "from themes import symmetry_classes\n",
    "from utilities import sm2v\n",
    "from utilities import v2sm"
   ]
  },
  {
   "cell_type": "code",
   "execution_count": null,
   "outputs": [],
   "source": [
    "plt.rcParams['lines.markersize'] = 3"
   ],
   "metadata": {
    "collapsed": false
   },
   "id": "736ab938211333ea"
  },
  {
   "cell_type": "code",
   "execution_count": null,
   "outputs": [],
   "source": [
    "write = False"
   ],
   "metadata": {
    "collapsed": false
   },
   "id": "59e6e1bddc0a989a"
  },
  {
   "cell_type": "code",
   "execution_count": null,
   "outputs": [],
   "source": [
    "pathway = 3\n",
    "\n",
    "if pathway==1:\n",
    "    \n",
    "    node_sequence    = ['TRIV','ISO']       # Note that this should always be a list of length 2\n",
    "    node_mode        = 1\n",
    "    t_min            = -3/5\n",
    "    t_max            = 1\n",
    "    dt               = 1/5\n",
    "\n",
    "elif pathway==2:\n",
    "    \n",
    "    node_sequence    = ['TRIV','MONO','ORTH','TET','XISO','ISO']\n",
    "    node_mode        = 1\n",
    "    t_min            = 0\n",
    "    t_max            = 1\n",
    "    dt               = 1/5\n",
    "\n",
    "elif pathway==3:\n",
    "    \n",
    "    node_sequence    = ['TRIV','MONO','ORTH','TET','XISO','ISO']\n",
    "    node_mode        = 2\n",
    "    t_min            = 0\n",
    "    t_max            = 1\n",
    "    dt               = 1/5\n",
    "    \n",
    "elif pathway==4:\n",
    "    \n",
    "    node_sequence    = ['TRIV','MONO','ORTH','TET','XISO','ISO']\n",
    "    node_mode        = 3\n",
    "    t_min            = 0\n",
    "    t_max            = 1\n",
    "    dt               = 1/5\n",
    "    orient_with      = 'XISO'"
   ],
   "metadata": {
    "collapsed": false
   },
   "id": "9de003b7f1443f4b"
  },
  {
   "cell_type": "code",
   "execution_count": null,
   "outputs": [],
   "source": [
    "Cvec_Brown, *_ = get_materials_Cvec(material=\"Brown\")\n",
    "Cmat_Brown = v2sm(Cvec_Brown)\n",
    "Tmat_Brown = tmat_of_cmat(Cmat_Brown)"
   ],
   "metadata": {
    "collapsed": false
   },
   "id": "8b71894c947feb4e"
  },
  {
   "cell_type": "code",
   "execution_count": null,
   "outputs": [],
   "source": [
    "Tmat_nodes = []\n",
    "\n",
    "if node_mode == 1:\n",
    "    for sigma in node_sequence:\n",
    "        print(f'adding node {sigma} ....')\n",
    "        if sigma == \"TRIV\":\n",
    "            Tmat_nodes.append(Tmat_Brown)    \n",
    "        else:\n",
    "            Tmat_nodes.append(closest(Tmat_Brown, sigma))\n",
    "\n",
    "elif node_mode == 2:\n",
    "    for i, sigma in enumerate(node_sequence):\n",
    "        print(f'adding node {sigma} ....')\n",
    "        if i==0:\n",
    "            Tmat_nodes.append(Tmat_Brown)\n",
    "        else:\n",
    "            Tmat_nodes.append(closest(Tmat_nodes[i-1], sigma))\n",
    "            \n",
    "elif node_mode == 3:\n",
    "    \n",
    "    temp = GetTempAndT0S0P0(Tmat=Tmat_Brown, Sigma=orient_with)\n",
    "    U = UsHat([temp[1]['theta'], 0, temp[1]['phi']])\n",
    "    \n",
    "    for i, sigma in enumerate(node_sequence):\n",
    "        print(f'adding node {sigma} ....')\n",
    "        if i==0:\n",
    "            Tmat_nodes.append(Tmat_Brown)\n",
    "        else:\n",
    "            Tmat_nodes.append(proj_to_vsig_of_u_new(Tmat_Brown, U, sigma))\n",
    "    \n",
    "else:\n",
    "    print('The chosen node mode is not available')"
   ],
   "metadata": {
    "collapsed": false
   },
   "id": "683c4b1a3fe2ff61"
  },
  {
   "cell_type": "code",
   "execution_count": null,
   "outputs": [],
   "source": [
    "num_workers        = os.cpu_count()\n",
    "\n",
    "npts               = round( (t_max - t_min) / dt + 1 )\n",
    "n_symmetry_classes = len(symmetry_classes)\n",
    "n_nodes            = len(node_sequence)\n",
    "n_c_vecs           = (n_nodes-1) * (npts-1) + 1\n",
    "data_size          = n_symmetry_classes * n_c_vecs\n",
    "frac               = np.linspace(t_min,t_max,npts)\n",
    "betas              = np.zeros((n_symmetry_classes, n_c_vecs)) \n",
    "\n",
    "for i in range(n_nodes-1):\n",
    "    \n",
    "    t_mat1 = Tmat_nodes[i]\n",
    "    t_mat2 = Tmat_nodes[i+1]\n",
    "    \n",
    "    if pathway==1:    \n",
    "    \n",
    "        c_vecs = []\n",
    "        for j in range(npts):\n",
    "            t_mat_test = (1-frac[j]) * t_mat1 + (frac[j]) * t_mat2\n",
    "            c_mat_test = cmat_of_tmat(t_mat_test)\n",
    "            c_vec_test = sm2v(c_mat_test)\n",
    "            c_vecs.append(c_vec_test)\n",
    "    \n",
    "    elif pathway in [2, 3, 4]:\n",
    "        \n",
    "        if i==0:\n",
    "            c_vecs = [Cvec_Brown]\n",
    "        \n",
    "        for j in range(1,npts):\n",
    "            t_mat_test = (1-frac[j]) * t_mat1 + (frac[j]) * t_mat2\n",
    "            c_mat_test = cmat_of_tmat(t_mat_test)\n",
    "            c_vec_test = sm2v(c_mat_test)\n",
    "            c_vecs.append(c_vec_test)\n",
    "\n",
    "if data_size < num_workers:\n",
    "\n",
    "    results = []\n",
    "    for i, sigma in enumerate(symmetry_classes):\n",
    "        for j, c_vec in enumerate(c_vecs):\n",
    "            print(f'running iteration {i+1}, {j+1} ....')\n",
    "            results.append(distance(c_vec, sigma))\n",
    "\n",
    "else:\n",
    "    \n",
    "    c_vecs   = c_vecs * n_symmetry_classes\n",
    "    sigmas   = [sigma for sigma in symmetry_classes for _ in range(n_c_vecs)]\n",
    "    tracker  = range(data_size)\n",
    "    distance_new = partial(distance, use_parallel_processing=False)       \n",
    "    with concurrent.futures.ProcessPoolExecutor(max_workers=num_workers) as executor:\n",
    "        results = list(executor.map(distance_new, c_vecs, sigmas, tracker))\n",
    "\n",
    "betas_vec, thetas_vec, sigmas_vec, phis_vec = list(zip(*results))\n",
    "\n",
    "for i in range(n_symmetry_classes):\n",
    "    index = i * n_c_vecs\n",
    "    betas[i,:] = betas_vec[index : index + n_c_vecs]"
   ],
   "metadata": {
    "collapsed": false
   },
   "id": "847bbdee2a4d292b"
  },
  {
   "cell_type": "code",
   "execution_count": null,
   "outputs": [],
   "source": [
    "plt.figure(figsize=(10,10))\n",
    "\n",
    "if pathway==1:\n",
    "    \n",
    "    for i, sym_class in enumerate(symmetry_classes):\n",
    "        plt.plot(frac, betas[i], '-o', color=colors[sym_class], label=sym_class)\n",
    "    \n",
    "    for xc in [t_min, 0, t_max]:\n",
    "        plt.axvline(x=xc,color='k',linestyle=':')\n",
    "        \n",
    "    plt.axhline(y=0, color='k', linestyle=':')\n",
    "    plt.grid()\n",
    "    plt.xlabel(\"t\", fontsize=25)\n",
    "    \n",
    "elif pathway in [2, 3, 4]:    \n",
    "    \n",
    "    x = np.arange(n_c_vecs)\n",
    "    xticks = np.arange(n_nodes)*(npts-1)\n",
    "    \n",
    "    for i, sym_class in enumerate(symmetry_classes):\n",
    "        plt.plot(x, betas[i], '-o', color=colors[sym_class], label=sym_class)\n",
    "    \n",
    "    for xc in np.arange(n_nodes)*(npts-1):\n",
    "        plt.axvline(x=xc,color='k',linestyle=':')\n",
    "    \n",
    "    plt.xticks(xticks, node_sequence)\n",
    "    plt.xlabel(\"Node Sequence\", fontsize=25)\n",
    "\n",
    "plt.xticks(fontsize=15)\n",
    "plt.yticks(fontsize=15)\n",
    "plt.ylabel(r'$\\beta_{\\Sigma}$ (°)', fontsize=25)\n",
    "plt.legend(loc=1, fontsize=13, title=r'${\\Sigma}$ (Brown2016)', title_fontsize=15)\n",
    "if write: plt.savefig(f'Pathway_{pathway}.png')\n",
    "plt.show()"
   ],
   "metadata": {
    "collapsed": false
   },
   "id": "c59eceb2facae47d"
  },
  {
   "cell_type": "code",
   "execution_count": null,
   "outputs": [],
   "source": [
    "# Inspect contour maps\n",
    "# Make sure that the plotting of the Contour Map is not attempted for the isotropic class\n",
    "\n",
    "'''\n",
    "for i in range(n_symmetry_classes):\n",
    "    for j in range(npts):\n",
    "        ax = ES_ContourPlots(Tmat, symmetry_classes[i])\n",
    "        ax.scatter(thetas_vec[i], phis_vec[i], c='r', marker='x')\n",
    "        plt.show()\n",
    "'''"
   ],
   "metadata": {
    "collapsed": false
   },
   "id": "6546533030d6278d"
  }
 ],
 "metadata": {
  "kernelspec": {
   "display_name": "Python 3",
   "language": "python",
   "name": "python3"
  },
  "language_info": {
   "codemirror_mode": {
    "name": "ipython",
    "version": 2
   },
   "file_extension": ".py",
   "mimetype": "text/x-python",
   "name": "python",
   "nbconvert_exporter": "python",
   "pygments_lexer": "ipython2",
   "version": "2.7.6"
  }
 },
 "nbformat": 4,
 "nbformat_minor": 5
}
