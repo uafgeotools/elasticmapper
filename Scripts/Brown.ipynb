{
 "cells": [
  {
   "cell_type": "code",
   "id": "initial_id",
   "metadata": {
    "collapsed": true
   },
   "source": [
    "import concurrent.futures\n",
    "import os\n",
    "from functools import partial\n",
    "\n",
    "import matplotlib.pyplot as plt\n",
    "import numpy as np\n",
    "\n",
    "from materials import get_materials_Cvec\n",
    "from safe_module import distance\n",
    "from themes import symmetry_classes"
   ],
   "outputs": [],
   "execution_count": null
  },
  {
   "cell_type": "code",
   "source": [
    "plt.rcParams['lines.markersize'] = 3"
   ],
   "metadata": {
    "collapsed": false
   },
   "id": "d4cdbcc380f84723",
   "outputs": [],
   "execution_count": null
  },
  {
   "cell_type": "code",
   "source": [
    "write = False"
   ],
   "metadata": {
    "collapsed": false
   },
   "id": "dfa2085a26a0b095",
   "outputs": [],
   "execution_count": null
  },
  {
   "cell_type": "code",
   "source": [
    "data_size = 10000"
   ],
   "metadata": {
    "collapsed": false
   },
   "id": "f32c4d21796c2555",
   "outputs": [],
   "execution_count": null
  },
  {
   "cell_type": "code",
   "source": [
    "Cvec_Brown, Cvec_Brown_stdv, *_ = get_materials_Cvec(material=\"Brown\")"
   ],
   "metadata": {
    "collapsed": false
   },
   "id": "abeaec3e6310d211",
   "outputs": [],
   "execution_count": null
  },
  {
   "cell_type": "code",
   "source": [
    "# This should ideally come from a grid search\n",
    "\n",
    "beta0 = np.zeros(7)\n",
    "\n",
    "for i, sigma in enumerate(symmetry_classes):\n",
    "    temp = distance(Cvec_Brown, sigma)\n",
    "    beta0[i] = temp[0]\n",
    "    print(f'Distance to {sigma} = {beta0[i]:.1f}')"
   ],
   "metadata": {
    "collapsed": false
   },
   "id": "f3f8547301d2c6aa",
   "outputs": [],
   "execution_count": null
  },
  {
   "cell_type": "code",
   "source": [
    "#beta0 = [26, 21.1, 18.6, 16.2, 7.9, 6.4, 3.8]"
   ],
   "metadata": {
    "collapsed": false
   },
   "id": "50ce404949172bb4",
   "outputs": [],
   "execution_count": null
  },
  {
   "cell_type": "code",
   "source": [
    "# Writing Cmat realizations to file\n",
    "\n",
    "if write:\n",
    "    with open('output.txt', 'w') as f:\n",
    "        f.write('C11 \\tC12 \\tC13 \\tC14 \\tC15 \\tC16 \\tC22 \\tC23 \\tC24 \\tC25 \\tC26 \\tC33 \\tC34 \\tC35 \\tC36 \\tC44 '\n",
    "             '\\tC45 \\tC46 \\tC55 \\tC56 \\tC66\\n')\n",
    "\n",
    "c_vecs = []\n",
    "\n",
    "for i in range(data_size):\n",
    "    Cvec_Brown_random = np.around( np.random.normal(Cvec_Brown,Cvec_Brown_stdv), 1 )\n",
    "    if write:\n",
    "        with open('output.txt', 'a') as f:\n",
    "            for value in Cvec_Brown_random:\n",
    "                f.write(f'{value:.1f} \\t')\n",
    "            f.write('\\n')\n",
    "    c_vecs.append(Cvec_Brown_random)"
   ],
   "metadata": {
    "collapsed": false
   },
   "id": "4b06d2ea70d97597",
   "outputs": [],
   "execution_count": null
  },
  {
   "cell_type": "code",
   "source": [
    "workers = os.cpu_count()\n",
    "betas = np.empty((len(symmetry_classes), data_size))\n",
    "\n",
    "distance_new = partial(distance, use_parallel_processing=False)\n",
    "\n",
    "for i, sigma in enumerate(symmetry_classes):   \n",
    "    print(f'running minimizer for symmetry class: {sigma}')\n",
    "    with concurrent.futures.ProcessPoolExecutor(max_workers=workers) as executor:\n",
    "        results = list(executor.map(distance_new, c_vecs, [sigma]*data_size))\n",
    "    for j in range(data_size):\n",
    "        betas[i,j] = results[j][0]\n",
    "        \n",
    "np.save('betas_brown', betas)"
   ],
   "metadata": {
    "collapsed": false
   },
   "id": "5db559a510737d34",
   "outputs": [],
   "execution_count": null
  },
  {
   "cell_type": "code",
   "source": [
    "# histograms\n",
    "\n",
    "mean = np.zeros(len(symmetry_classes))\n",
    "stdv = np.zeros(len(symmetry_classes))\n",
    "\n",
    "fig, axs = plt.subplots(7,1,figsize=(10,30))\n",
    "\n",
    "for j, sigma in enumerate(symmetry_classes):\n",
    "    \n",
    "    mean[j] = np.mean(betas[j,:])\n",
    "    stdv[j] = np.std(betas[j,:])\n",
    "\n",
    "stdv_max = np.max(stdv)\n",
    "\n",
    "for j, sigma in enumerate(symmetry_classes):\n",
    "    \n",
    "    x1 = mean[j] - 3*stdv_max\n",
    "    x2 = mean[j] + 3*stdv_max\n",
    "    \n",
    "    ax = axs[j]\n",
    "    if j==0:\n",
    "        ax.hist(betas[j,:], bins=50, label=f\"An0\")\n",
    "        ax.legend(fontsize=30)\n",
    "    else:\n",
    "        ax.hist(betas[j,:], bins=50)\n",
    "    ax.axvline(beta0[j],color='k')\n",
    "    ax.axvline(mean[j],color='r')\n",
    "    ax.axvline(mean[j]-2*stdv[j],color='r',linestyle='--')\n",
    "    ax.axvline(mean[j]+2*stdv[j],color='r',linestyle='--')\n",
    "    ax.set_xlim([x1, x2])\n",
    "    ax.set_title(r'$\\beta_{{{}}}$ ($\\mu$ = {:.1f}, 2$\\sigma$ = {:.1f})'.format(sigma, mean[j], 2*stdv[j]), \n",
    "                 fontsize = 30)\n",
    "    ax.tick_params(axis='both', which='major', labelsize=30)\n",
    "\n",
    "plt.subplots_adjust(hspace=0.5)\n",
    "if write: plt.savefig(f\"Brown_An0_{data_size}.png\", bbox_inches='tight')\n",
    "plt.show()"
   ],
   "metadata": {
    "collapsed": false
   },
   "id": "262505d2b81a6616",
   "outputs": [],
   "execution_count": null
  },
  {
   "cell_type": "code",
   "source": [
    "# differential evolution computational time and number of outliers trade off analysis\n",
    "\n",
    "pop_sizes = [15, 45, 100, 135, 200]\n",
    "execution_times = np.array([689, 2339, 4879, 6735, 10366])/60\n",
    "outlier_percent_MONO = [4.1, 0.0, 0.0, 0.0, 0.0]\n",
    "outlier_percent_ORTH = [30.7, 9.2, 1.3, 0.7, 0.1]\n",
    "outlier_percent_TET  = [0.0, 0.0, 0.0, 0.0, 0.0]\n",
    "outlier_percent_CUBE = [0.0, 0.0, 0.0, 0.0, 0.0]\n",
    "outlier_percent_TRIG = [9.7, 0.4, 0.1, 0.1, 0.1]\n",
    "outlier_percent_XISO = [0.0, 0.0, 0.0, 0.0, 0.0]\n",
    "outlier_percent_ISO  = [0.0, 0.0, 0.0, 0.0, 0.0]\n",
    "\n",
    "plt.figure()\n",
    "plt.scatter(pop_sizes, execution_times)\n",
    "plt.xlabel('pop size')\n",
    "plt.ylabel('execution time (minutes)')\n",
    "plt.show()\n",
    "\n",
    "plt.figure()\n",
    "plt.scatter(pop_sizes, outlier_percent_MONO, label='MONO')\n",
    "plt.scatter(pop_sizes, outlier_percent_ORTH, label='ORTH')\n",
    "plt.scatter(pop_sizes, outlier_percent_TET, label='TET')\n",
    "plt.scatter(pop_sizes, outlier_percent_CUBE, label='CUBE')\n",
    "plt.scatter(pop_sizes, outlier_percent_TRIG, label='TRIG')\n",
    "plt.scatter(pop_sizes, outlier_percent_XISO, label='XISO')\n",
    "plt.scatter(pop_sizes, outlier_percent_ISO, label='ISO')\n",
    "plt.xlabel('pop size')\n",
    "plt.ylabel('outlier percentage (%)')\n",
    "plt.legend()\n",
    "plt.show()"
   ],
   "metadata": {
    "collapsed": false
   },
   "id": "6237d24feb05a60d",
   "outputs": [],
   "execution_count": null
  }
 ],
 "metadata": {
  "kernelspec": {
   "display_name": "Python 3",
   "language": "python",
   "name": "python3"
  },
  "language_info": {
   "codemirror_mode": {
    "name": "ipython",
    "version": 2
   },
   "file_extension": ".py",
   "mimetype": "text/x-python",
   "name": "python",
   "nbconvert_exporter": "python",
   "pygments_lexer": "ipython2",
   "version": "2.7.6"
  }
 },
 "nbformat": 4,
 "nbformat_minor": 5
}
