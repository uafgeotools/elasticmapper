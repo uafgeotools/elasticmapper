{
 "cells": [
  {
   "cell_type": "code",
   "execution_count": null,
   "outputs": [],
   "source": [
    "import matplotlib.pyplot as plt\n",
    "import numpy as np\n",
    "\n",
    "from change_of_basis import tmat_of_cmat\n",
    "from safe_module import closest\n",
    "from utilities import v2sm"
   ],
   "metadata": {
    "collapsed": false
   }
  },
  {
   "cell_type": "code",
   "execution_count": null,
   "outputs": [],
   "source": [
    "write = False"
   ],
   "metadata": {
    "collapsed": false
   }
  },
  {
   "cell_type": "code",
   "execution_count": null,
   "outputs": [],
   "source": [
    "anorthite_percentages = [0, 25, 37, 48, 60, 67, 78, 96]\n",
    "\n",
    "kappa = np.zeros((1000,8))\n",
    "mu = np.zeros((1000,8))\n",
    "\n",
    "for j, model in enumerate(anorthite_percentages):\n",
    "    filename = f\"Data/Brown2016/output_brown_An{model}_1000.txt\"\n",
    "    data = np.genfromtxt(filename, skip_header=1)\n",
    "    for i in range(data.shape[0]):\n",
    "        Cvec_Brown_random = data[i,:]\n",
    "        Cmat_Brown_random = v2sm(Cvec_Brown_random)\n",
    "        Tmat_Brown_random = tmat_of_cmat(Cmat_Brown_random)\n",
    "        T_mat = closest(Tmat_Brown_random, \"ISO\")\n",
    "        kappa[i,j] = T_mat[5,5] / 3\n",
    "        mu[i,j] = T_mat[0,0] / 2"
   ],
   "metadata": {
    "collapsed": false
   }
  },
  {
   "cell_type": "code",
   "execution_count": null,
   "outputs": [],
   "source": [
    "plt.figure(figsize=(5,9))\n",
    "\n",
    "x = anorthite_percentages\n",
    "\n",
    "y1 = np.zeros(8)\n",
    "y1_stdv = np.zeros(8)\n",
    "y2 = np.zeros(8)\n",
    "y2_stdv = np.zeros(8)\n",
    "\n",
    "for j, _ in enumerate(anorthite_percentages):\n",
    "    y1[j] = np.mean(kappa[:,j])\n",
    "    y1_stdv[j] = np.std(kappa[:,j])\n",
    "    y2[j] = np.mean(mu[:,j])\n",
    "    y2_stdv[j] = np.std(mu[:,j])\n",
    "\n",
    "plt.plot(x, y1, '-o', color='k')\n",
    "plt.errorbar(x, y1, yerr=2*y1_stdv, color='k', capsize=5, capthick=1)\n",
    "\n",
    "plt.plot(x, y2, '-o', color='k')\n",
    "plt.errorbar(x, y2, yerr=2*y2_stdv, color='k', capsize=5, capthick=1)\n",
    "\n",
    "plt.ylim([25,92])\n",
    "plt.xticks(np.arange(0,101,10), fontsize=12)\n",
    "plt.yticks(fontsize=12)\n",
    "plt.grid()\n",
    "plt.xlabel(\"Anorthite percentage\", fontsize=15)\n",
    "plt.ylabel(\"Modulus (GPa)\", fontsize=15)\n",
    "plt.text(2,47,'shear modulus', fontsize=15)\n",
    "plt.text(2,81,'bulk modulus', fontsize=15)\n",
    "if write: plt.savefig(\"Brown_Figure_5.png\", bbox_inches='tight')\n",
    "plt.show()"
   ],
   "metadata": {
    "collapsed": false
   }
  }
 ],
 "metadata": {
  "kernelspec": {
   "display_name": "Python 3",
   "language": "python",
   "name": "python3"
  },
  "language_info": {
   "codemirror_mode": {
    "name": "ipython",
    "version": 2
   },
   "file_extension": ".py",
   "mimetype": "text/x-python",
   "name": "python",
   "nbconvert_exporter": "python",
   "pygments_lexer": "ipython2",
   "version": "2.7.6"
  }
 },
 "nbformat": 4,
 "nbformat_minor": 0
}
