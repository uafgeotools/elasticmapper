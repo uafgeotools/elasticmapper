{
 "cells": [
  {
   "cell_type": "code",
   "execution_count": null,
   "outputs": [],
   "source": [
    "import matplotlib.pyplot as plt\n",
    "import numpy as np\n",
    "\n",
    "from change_of_basis import tmat_of_cmat\n",
    "from safe_module import closest\n",
    "from utilities import v2sm"
   ],
   "metadata": {
    "collapsed": false
   }
  },
  {
   "cell_type": "code",
   "execution_count": null,
   "outputs": [],
   "source": [
    "write = False"
   ],
   "metadata": {
    "collapsed": false
   }
  },
  {
   "cell_type": "code",
   "execution_count": null,
   "outputs": [],
   "source": [
    "models = [1, 2, 3, 4, 5, 6, 7, 8, 9]\n",
    "n_materials = len(models)\n",
    "\n",
    "kappa = np.zeros((1000,n_materials))\n",
    "mu = np.zeros((1000,n_materials))\n",
    "\n",
    "for j, model in enumerate(models):\n",
    "    filename = f\"Data/BrownAbramson2016/output_{model}.txt\"\n",
    "    data = np.genfromtxt(filename, skip_header=1)\n",
    "    for i in range(data.shape[0]):\n",
    "        Cvec_Brown_random = data[i,:]\n",
    "        Cmat_Brown_random = v2sm(Cvec_Brown_random)\n",
    "        Tmat_Brown_random = tmat_of_cmat(Cmat_Brown_random)\n",
    "        T_mat = closest(Tmat_Brown_random, \"ISO\")\n",
    "        kappa[i,j] = T_mat[5,5] / 3\n",
    "        mu[i,j] = T_mat[0,0] / 2"
   ],
   "metadata": {
    "collapsed": false
   }
  },
  {
   "cell_type": "code",
   "execution_count": null,
   "outputs": [],
   "source": [
    "plt.figure(figsize=(5,9))\n",
    "\n",
    "filename = '../data/BrownAbramson2016_Table2.txt'\n",
    "table = []\n",
    "with open(filename, 'r') as file:\n",
    "    for line in file:\n",
    "        row = [item for item in line.split()]\n",
    "        table.append(row)\n",
    "\n",
    "x = np.array([float(table[1][i+1]) + float(table[2][i+1]) for i in range(n_materials)])\n",
    "\n",
    "y1 = np.zeros(n_materials)\n",
    "y1_stdv = np.zeros(n_materials)\n",
    "y2 = np.zeros(n_materials)\n",
    "y2_stdv = np.zeros(n_materials)\n",
    "\n",
    "for j, _ in enumerate(x):\n",
    "    y1[j] = np.mean(kappa[:,j])\n",
    "    y1_stdv[j] = np.std(kappa[:,j])\n",
    "    y2[j] = np.mean(mu[:,j])\n",
    "    y2_stdv[j] = np.std(mu[:,j])\n",
    "\n",
    "index = np.argsort(x)\n",
    "\n",
    "plt.plot(x[index], y1[index], '-o', color='k')\n",
    "plt.errorbar(x[index], y1[index], yerr=2*y1_stdv[index], color='k', capsize=5, capthick=1)\n",
    "\n",
    "plt.plot(x[index], y2[index], '-o', color='k')\n",
    "plt.errorbar(x[index], y2[index], yerr=2*y2_stdv[index], color='k', capsize=5, capthick=1)\n",
    "\n",
    "plt.xticks(fontsize=12)\n",
    "plt.yticks(fontsize=12)\n",
    "plt.grid()\n",
    "plt.xlabel(\"Total aluminium (aloms/F.U.)\", fontsize=15)\n",
    "plt.ylabel(\"Modulus (GPa)\", fontsize=15)\n",
    "plt.text(0.7,62,'shear modulus', fontsize=15)\n",
    "plt.text(0.5,98,'bulk modulus', fontsize=15)\n",
    "if write: plt.savefig(\"BrownAbramson_Figure_3.png\", bbox_inches='tight')\n",
    "plt.show()"
   ],
   "metadata": {
    "collapsed": false
   }
  },
  {
   "cell_type": "code",
   "execution_count": null,
   "outputs": [],
   "source": [],
   "metadata": {
    "collapsed": false
   }
  }
 ],
 "metadata": {
  "kernelspec": {
   "display_name": "Python 3",
   "language": "python",
   "name": "python3"
  },
  "language_info": {
   "codemirror_mode": {
    "name": "ipython",
    "version": 2
   },
   "file_extension": ".py",
   "mimetype": "text/x-python",
   "name": "python",
   "nbconvert_exporter": "python",
   "pygments_lexer": "ipython2",
   "version": "2.7.6"
  }
 },
 "nbformat": 4,
 "nbformat_minor": 0
}
