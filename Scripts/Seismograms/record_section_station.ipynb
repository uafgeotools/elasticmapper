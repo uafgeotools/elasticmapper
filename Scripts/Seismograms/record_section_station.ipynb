{
 "cells": [
  {
   "cell_type": "code",
   "execution_count": null,
   "id": "35e853f4964f2548",
   "metadata": {
    "collapsed": true
   },
   "outputs": [],
   "source": [
    "import matplotlib.pyplot as plt\n",
    "import numpy as np\n",
    "from obspy import Stream\n",
    "from pysep.utils.io import read_sem\n",
    "from pysep.recsec import RecordSection"
   ]
  },
  {
   "cell_type": "code",
   "execution_count": null,
   "outputs": [],
   "source": [
    "write = False"
   ],
   "metadata": {
    "collapsed": false
   },
   "id": "b1a1774531cd88bd"
  },
  {
   "cell_type": "code",
   "execution_count": null,
   "outputs": [],
   "source": [
    "map = 'Brown'\n",
    "\n",
    "# database_type = 'SymGroups'\n",
    "# station = 'R33-25'\n",
    "# time_length_s = 51 # corresponds to -1s to 50s of data\n",
    "\n",
    "# database_type = 't20'\n",
    "# station = 'R33-25'\n",
    "# time_length_s = 41 # corresponds to -1s to 40s of data\n",
    "\n",
    "# database_type = 't2_5'\n",
    "# station = 'R33-25'\n",
    "# time_length_s = 41 # corresponds to -1s to 40s of data\n",
    "\n",
    "# database_type = 't20'\n",
    "# station = 'R18-17'\n",
    "# time_length_s = 31 # corresponds to -1s to 30s of data\n",
    "\n",
    "database_type = 't2_5'\n",
    "station = 'R18-17'\n",
    "time_length_s = 31 # corresponds to -1s to 30s of data\n",
    "\n",
    "component = 'Z'"
   ],
   "metadata": {
    "collapsed": false
   },
   "id": "40b23557763ea28d"
  },
  {
   "cell_type": "code",
   "execution_count": null,
   "outputs": [],
   "source": [
    "if database_type == 'SymGroups':\n",
    "    models = ['TRIV', 'MONO_TRIV', 'MONO', 'ORTH_MONO', 'ORTH', 'TET_ORTH',\n",
    "              'TET', 'XISO_TET', 'XISO', 'ISO_XISO', 'ISO',]\n",
    "elif database_type == 't20':\n",
    "    models  = ['t100', 't80', 't60', 't40', 't20', 't00']\n",
    "elif database_type == 't2_5':\n",
    "    models  = ['t20', 't17_5', 't15', 't12_5', 't10', 't7_5', 't5', 't2_5', 't00']\n",
    "\n",
    "database_loc = f'/scratch/agupta7/specfem/rectangular_grid/{map}_{database_type}'\n",
    "\n",
    "source_file = f'{database_loc}/{models[0]}/OUTPUT_FILES/CMTSOLUTION'\n",
    "stations_file = f'{database_loc}/{models[0]}/OUTPUT_FILES/STATIONS_FILTERED'"
   ],
   "metadata": {
    "collapsed": false
   },
   "id": "e39a0608d167db4c"
  },
  {
   "cell_type": "code",
   "execution_count": null,
   "outputs": [],
   "source": [
    "st = Stream()\n",
    "for model in models:\n",
    "    print(f'loading data for model: {model}')\n",
    "    fid = (f'{database_loc}/{model}/OUTPUT_FILES/seismograms/XX.{station}.CX{component}.semd')\n",
    "    st += read_sem(fid=fid, source=source_file, stations=stations_file)"
   ],
   "metadata": {
    "collapsed": false
   },
   "id": "initial_id"
  },
  {
   "cell_type": "code",
   "execution_count": null,
   "outputs": [],
   "source": [
    "for tr in st:\n",
    "    tr.differentiate()\n",
    "    t1 = tr.stats.starttime\n",
    "    t2 = t1 + time_length_s\n",
    "    tr.trim(t1,t2)"
   ],
   "metadata": {
    "collapsed": false
   },
   "id": "15f3745b2d883cbb"
  },
  {
   "cell_type": "code",
   "execution_count": null,
   "outputs": [],
   "source": [
    "plotting_defaults = dict( st                     = st,\n",
    "                          #sort_by                = 'alphabetical',\n",
    "                          scale_by               = 'global_norm',                          \n",
    "                          amplitude_scale_factor = 1,\n",
    "                          preprocess             = False,\n",
    "                          integrate              = -1,\n",
    "                          max_traces_per_rs      = None,\n",
    "                          xlim_s                 = [-2, time_length_s],\n",
    "                          components             = component,\n",
    "                          distance_units         = 'km',\n",
    "                          figsize                = (6,15),                          \n",
    "                          show                   = False,\n",
    "                          save                   = '',\n",
    "                          log_level              = 'CRITICAL', \n",
    "                          cartesian              = True,\n",
    "                          synsyn                 = True,\n",
    "                          linewidth              = 0.5,\n",
    "                          title                  = '',\n",
    "                          y_label_loc            = 'x_min',\n",
    "                          y_label_fontsize       = 0,\n",
    "                          azimuth_bin_c          = 'None' )"
   ],
   "metadata": {
    "collapsed": false
   },
   "id": "3827ad875e6237e5"
  },
  {
   "cell_type": "code",
   "execution_count": null,
   "outputs": [],
   "source": [
    "rs = RecordSection(**plotting_defaults)\n",
    "rs.run()\n",
    "plt.grid(False, which='both')\n",
    "if write: plt.savefig(f'record_section_{database_type}_{station}.png')\n",
    "plt.show()"
   ],
   "metadata": {
    "collapsed": false
   },
   "id": "9f313ada81f02382"
  }
 ],
 "metadata": {
  "kernelspec": {
   "display_name": "Python 3",
   "language": "python",
   "name": "python3"
  },
  "language_info": {
   "codemirror_mode": {
    "name": "ipython",
    "version": 2
   },
   "file_extension": ".py",
   "mimetype": "text/x-python",
   "name": "python",
   "nbconvert_exporter": "python",
   "pygments_lexer": "ipython2",
   "version": "2.7.6"
  }
 },
 "nbformat": 4,
 "nbformat_minor": 5
}
