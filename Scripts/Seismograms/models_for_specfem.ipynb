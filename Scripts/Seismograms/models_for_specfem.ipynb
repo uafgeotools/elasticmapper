{
 "cells": [
  {
   "cell_type": "code",
   "metadata": {
    "collapsed": true
   },
   "source": [
    "import numpy as np\n",
    "from pathlib import Path\n",
    "\n",
    "from change_of_basis import cmat_of_tmat\n",
    "from change_of_basis import tmat_of_cmat\n",
    "from materials import get_materials_Cvec\n",
    "from safe_module import closest\n",
    "from utilities import print_matrix_matlab\n",
    "from utilities import sm2v\n",
    "from utilities import v2sm"
   ],
   "outputs": [],
   "execution_count": null
  },
  {
   "cell_type": "code",
   "source": [
    "write = False"
   ],
   "metadata": {
    "collapsed": false
   },
   "outputs": [],
   "execution_count": null
  },
  {
   "cell_type": "code",
   "execution_count": null,
   "outputs": [],
   "source": [
    "map = \"Brown\"\n",
    "database_type = \"SymGroups\" # options are [SymGroups, t20, t10, t2_5]"
   ],
   "metadata": {
    "collapsed": false
   }
  },
  {
   "cell_type": "code",
   "source": [
    "def footer(filename, textlines, c_vec):\n",
    "    \n",
    "    with open(filename, 'a') as f:\n",
    "        \n",
    "        for textline in textlines:\n",
    "            f.write(f'\\n{textline}')\n",
    "            \n",
    "        f.write('  if (iflag_aniso == IANISOTROPY_MODEL2) then\\n')\n",
    "        c = 0\n",
    "        for i in range(1,7):\n",
    "            for j in range(i,7):\n",
    "                f.write(f'    c{i}{j} = {c_vec[c]:17.12f} * 1d9\\n')\n",
    "                c += 1\n",
    "        f.write('  endif\\n')\n",
    "        f.write('\\n')\n",
    "        f.write('  end subroutine model_aniso')"
   ],
   "metadata": {
    "collapsed": false
   },
   "outputs": [],
   "execution_count": null
  },
  {
   "cell_type": "code",
   "execution_count": null,
   "outputs": [],
   "source": [
    "root_dir = Path.cwd().resolve().parent.parent\n",
    "base_dir = root_dir / \"Scripts\" / \"Data\" / \"SPECFEM3D_CARTESIAN\" / \"model_aniso\"\n",
    "source_file = base_dir / \"Template\" / \"model_aniso.f90\"\n",
    "destination_dir = base_dir / f\"{map}_{database_type}\"\n",
    "\n",
    "if write:\n",
    "    ! mkdir -p {destination_dir}"
   ],
   "metadata": {
    "collapsed": false
   }
  },
  {
   "cell_type": "code",
   "execution_count": null,
   "outputs": [],
   "source": [
    "Cvec, Cvec_stdv, *_ = get_materials_Cvec(material=map)"
   ],
   "metadata": {
    "collapsed": false
   }
  },
  {
   "cell_type": "code",
   "execution_count": null,
   "outputs": [],
   "source": [
    "Cmat = v2sm(Cvec)\n",
    "Tmat = tmat_of_cmat(Cmat)"
   ],
   "metadata": {
    "collapsed": false
   }
  },
  {
   "cell_type": "code",
   "source": [
    "# SymGroup models\n",
    "\n",
    "if database_type == \"SymGroups\":\n",
    "\n",
    "    node_sequence    = ['TRIV','MONO','ORTH','TET','XISO','ISO']\n",
    "    \n",
    "    Tmat_nodes = []\n",
    "    for sigma in node_sequence:\n",
    "            print(f'adding node {sigma} ....')\n",
    "            if sigma == \"TRIV\":\n",
    "                Tmat_nodes.append(Tmat)\n",
    "            else:\n",
    "                Tmat_nodes.append(closest(Tmat, sigma))"
   ],
   "metadata": {
    "collapsed": false
   },
   "outputs": [],
   "execution_count": null
  },
  {
   "cell_type": "code",
   "source": [
    "# SymGroups models\n",
    "\n",
    "if database_type == \"SymGroups\":\n",
    "\n",
    "    symmetry_classes = ['trivial', 'monoclinic', 'orthorhombic', 'tetragonal',\n",
    "                        'transversely isotropic', 'isotropic']\n",
    "    models = ['TRIV', 'MONO_TRIV', 'MONO', 'ORTH_MONO', 'ORTH', 'TET_ORTH', 'TET',\n",
    "              'XISO_TET', 'XISO', 'ISO_XISO', 'ISO']\n",
    "    \n",
    "    for i, model in enumerate(models):\n",
    "    \n",
    "        print(f'computing model {model} ....')\n",
    "    \n",
    "        if i%2==0:\n",
    "            j = round(i/2)\n",
    "            t_mat_test = Tmat_nodes[j]\n",
    "        else:\n",
    "            j = round((i-1)/2)\n",
    "            t_mat1 = Tmat_nodes[j]\n",
    "            t_mat2 = Tmat_nodes[j+1]\n",
    "            t_mat_test = 0.5 * t_mat1 + 0.5 * t_mat2\n",
    "    \n",
    "        c_mat_test = cmat_of_tmat(t_mat_test)\n",
    "        c_vec_test = sm2v(c_mat_test)\n",
    "    \n",
    "        print(f'printing model {model} ....')\n",
    "        print_matrix_matlab(c_mat_test)\n",
    "    \n",
    "        if write:\n",
    "            print(f'writing model {model} ....')\n",
    "            filename = f'model_aniso_{model}.f90'\n",
    "            destination_file = destination_dir / filename\n",
    "            ! cp {source_file} {destination_file}\n",
    "        \n",
    "            if i%2==0:\n",
    "                if j==0:\n",
    "                    textlines = ['! overwrite perturbation model 2 with the '\n",
    "                                 f'{map}2016 map\\n']\n",
    "                else:\n",
    "                    textlines = [f'! overwrite perturbation model 2 with closest'\n",
    "                                 f' {symmetry_classes[j]} map to the {map}2016'\n",
    "                                 f' map\\n']\n",
    "            else:\n",
    "                textlines = [f'! overwrite perturbation model 2 with map halfway'\n",
    "                             f' between closest {symmetry_classes[j+1]} and'\n",
    "                             f' {symmetry_classes[j]} map',\n",
    "                             f'! to the {map}2016 map\\n']\n",
    "                \n",
    "            footer(destination_file, textlines, c_vec_test)\n",
    "            print(\"done.\\n\")"
   ],
   "metadata": {
    "collapsed": false
   },
   "outputs": [],
   "execution_count": null
  },
  {
   "cell_type": "code",
   "source": [
    "# t** models\n",
    "\n",
    "if database_type[0] == \"t\":\n",
    "    if database_type == \"t20\":\n",
    "        models = ['160', '140', '120', '100', '80', '60', '40', '20', '00']\n",
    "        t_min  = -3/5\n",
    "        t_max  = 1\n",
    "        dt     = 1/5\n",
    "    elif database_type == \"t10\":\n",
    "        models = ['160', '150', '140', '130', '120', '110', '100',\n",
    "                   '90', '80', '70', '60', '50', '40', '30', '20', '10', '00']\n",
    "        t_min  = -3/5\n",
    "        t_max  = 1\n",
    "        dt     = 1/10\n",
    "    elif database_type == \"t2_5\":\n",
    "        models = ['20', '17_5', '15', '12_5', '10', '7_5', '5', '2_5', '00']\n",
    "        t_min  = 80 / 100\n",
    "        t_max  = 100 / 100\n",
    "        dt     = 2.5 / 100\n",
    "    else:\n",
    "        raise ValueError('database_type must be one of [t20, t10, t2_5]')\n",
    "\n",
    "    t_mat1 = Tmat\n",
    "    t_mat2 = closest(Tmat, 'ISO')\n",
    "    \n",
    "    npts     = round( (t_max - t_min) / dt + 1 )\n",
    "    frac     = np.linspace(t_min,t_max,npts)\n",
    "    \n",
    "    for i, model in enumerate(models):\n",
    "    \n",
    "        print(f'computing model t{model} ....')\n",
    "    \n",
    "        t_mat_test = (1-frac[i]) * t_mat1 + (frac[i]) * t_mat2\n",
    "        c_mat_test = cmat_of_tmat(t_mat_test)\n",
    "        c_vec_test = sm2v(c_mat_test)\n",
    "    \n",
    "        print(f'printing model t{model} ....')\n",
    "        print_matrix_matlab(c_mat_test)\n",
    "    \n",
    "        if write:\n",
    "            print(f'writing model t{model} ....')\n",
    "            filename = f'model_aniso_t{model}.f90'\n",
    "            destination_file = destination_dir / filename\n",
    "            ! cp {source_file} {destination_file}\n",
    "            \n",
    "            if model == '00':\n",
    "                textlines = ['! overwrite perturbation model 2 with closest isotropic'\n",
    "                             f' map to the {map}2016 map\\n']\n",
    "            elif model == '100':\n",
    "                textlines = ['! overwrite perturbation model 2 with the '\n",
    "                             f'{map}2016 map\\n']\n",
    "            else:\n",
    "                textlines = [f'! overwrite perturbation model 2 with map with {model}%'\n",
    "                             f' anisotropy of {map}2016 map\\n']\n",
    "    \n",
    "            footer(destination_file, textlines, c_vec_test)\n",
    "            print(\"done.\\n\")"
   ],
   "metadata": {
    "collapsed": false
   },
   "outputs": [],
   "execution_count": null
  }
 ],
 "metadata": {
  "kernelspec": {
   "display_name": "Python 3",
   "language": "python",
   "name": "python3"
  },
  "language_info": {
   "codemirror_mode": {
    "name": "ipython",
    "version": 2
   },
   "file_extension": ".py",
   "mimetype": "text/x-python",
   "name": "python",
   "nbconvert_exporter": "python",
   "pygments_lexer": "ipython2",
   "version": "2.7.6"
  }
 },
 "nbformat": 4,
 "nbformat_minor": 0
}
