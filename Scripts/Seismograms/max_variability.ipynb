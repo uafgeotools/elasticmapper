{
 "cells": [
  {
   "cell_type": "code",
   "execution_count": null,
   "id": "initial_id",
   "metadata": {},
   "outputs": [],
   "source": [
    "import concurrent.futures\n",
    "from functools import partial\n",
    "from glob import glob\n",
    "import os\n",
    "\n",
    "import matplotlib.pyplot as plt\n",
    "import numpy as np\n",
    "from obspy import Stream\n",
    "import pygmt\n",
    "from pysep.utils.io import read_sem\n",
    "from scipy.signal import hilbert as analytic"
   ]
  },
  {
   "cell_type": "code",
   "execution_count": null,
   "id": "f635d92f4b6802fe",
   "metadata": {
    "collapsed": false
   },
   "outputs": [],
   "source": [
    "write = False"
   ]
  },
  {
   "cell_type": "code",
   "execution_count": null,
   "id": "81d642d22590f0ed",
   "metadata": {
    "collapsed": false
   },
   "outputs": [],
   "source": [
    "map = 'Brown'\n",
    "database_type = 'SymGroups'\n",
    "#database_type = 't20'\n",
    "#database_type = 't2_5'"
   ]
  },
  {
   "cell_type": "code",
   "execution_count": null,
   "id": "25a136184d6095df",
   "metadata": {
    "collapsed": false
   },
   "outputs": [],
   "source": [
    "# choose only two model types\n",
    "if database_type == 'SymGroups':\n",
    "    #models = ['ISO', 'XISO']\n",
    "    models = ['MONO', 'TRIV']\n",
    "elif database_type == 't20':\n",
    "    models = ['t00', 't20']\n",
    "    #models = ['t80', 't100']\n",
    "elif database_type == 't2_5':\n",
    "    models = ['t00', 't20']\n",
    "\n",
    "misfit_functions = ['waveform', 'envelope', 'instantaneous_phase', 'traveltime']\n",
    "#misfit_functions = ['envelope']\n",
    "\n",
    "misfit_components = ['Z', 'Y', 'X']\n",
    "#misfit_components = ['Z']\n",
    "\n",
    "time_length_s = 40 # corresponds to -1s to 39s of data\n",
    "\n",
    "database_loc = f'/scratch/agupta7/specfem/rectangular_grid/{map}_{database_type}' \n",
    "source_file = f'{database_loc}/{models[0]}/OUTPUT_FILES/CMTSOLUTION'\n",
    "stations_file = f'{database_loc}/{models[0]}/OUTPUT_FILES/STATIONS_FILTERED'"
   ]
  },
  {
   "cell_type": "code",
   "execution_count": null,
   "outputs": [],
   "source": [
    "# misfit function definitions\n",
    "# after https://github.com/adjtomo/seisflows (commit 6afdd56)\n",
    "\n",
    "def waveform(st_syn, st_obs):\n",
    "    misfit = 0\n",
    "    nt = st_obs[0].stats.npts \n",
    "    dt = st_obs[0].stats.delta\n",
    "    for component in misfit_components:\n",
    "        syn = st_syn.select(component=component)[0].data\n",
    "        obs = st_obs.select(component=component)[0].data\n",
    "        wrsd = syn - obs\n",
    "        misfit += np.sqrt(np.sum(wrsd * wrsd * dt))\n",
    "    return misfit\n",
    "\n",
    "def envelope(st_syn, st_obs):\n",
    "    misfit = 0\n",
    "    nt = st_obs[0].stats.npts \n",
    "    dt = st_obs[0].stats.delta\n",
    "    for component in misfit_components:\n",
    "        syn = st_syn.select(component=component)[0].data\n",
    "        obs = st_obs.select(component=component)[0].data\n",
    "        env_syn = abs(analytic(syn))\n",
    "        env_obs = abs(analytic(obs))\n",
    "        env_rsd = env_syn - env_obs\n",
    "        misfit += np.sqrt(np.sum(env_rsd * env_rsd * dt))\n",
    "    return misfit\n",
    "\n",
    "def instantaneous_phase(st_syn, st_obs):\n",
    "    misfit = 0\n",
    "    nt = st_obs[0].stats.npts \n",
    "    dt = st_obs[0].stats.delta\n",
    "    for component in misfit_components:\n",
    "        syn = st_syn.select(component=component)[0].data\n",
    "        r = np.real(analytic(syn))\n",
    "        i = np.imag(analytic(syn))\n",
    "        phi_syn = np.arctan2(i, r)\n",
    "        obs = st_obs.select(component=component)[0].data\n",
    "        r = np.real(analytic(obs))\n",
    "        i = np.imag(analytic(obs))\n",
    "        phi_obs = np.arctan2(i, r)\n",
    "        phi_rsd = phi_syn - phi_obs\n",
    "        misfit += np.sqrt(np.sum(phi_rsd * phi_rsd * dt))\n",
    "    return misfit\n",
    "\n",
    "def traveltime(st_syn, st_obs):\n",
    "    misfit = 0\n",
    "    nt = st_obs[0].stats.npts \n",
    "    dt = st_obs[0].stats.delta\n",
    "    for component in misfit_components:\n",
    "        syn = st_syn.select(component=component)[0].data\n",
    "        obs = st_obs.select(component=component)[0].data\n",
    "        cc = abs(np.convolve(obs, np.flipud(syn)))\n",
    "        misfit += (np.argmax(cc) - nt + 1) * dt\n",
    "    return misfit"
   ],
   "metadata": {
    "collapsed": false
   },
   "id": "766276f036729453"
  },
  {
   "cell_type": "code",
   "execution_count": null,
   "outputs": [],
   "source": [
    "st_list = []\n",
    "workers = os.cpu_count()\n",
    "read_sem_new = partial(read_sem, source=source_file, stations=stations_file)\n",
    "\n",
    "for model in models:   \n",
    "    print(f'loading data for model: {model}')\n",
    "    \n",
    "    fids = []\n",
    "    for fid in glob(f'{database_loc}/{model}/OUTPUT_FILES/seismograms/*R*'):\n",
    "        fids.append(fid)\n",
    "    \n",
    "    with concurrent.futures.ProcessPoolExecutor(max_workers=workers) as executor:\n",
    "        data = list(executor.map(read_sem_new, fids))\n",
    "    \n",
    "    st = Stream()\n",
    "    for st_data in data:\n",
    "        st += st_data\n",
    "    st_list.append(st)"
   ],
   "metadata": {
    "collapsed": false
   },
   "id": "c2f61ffee6aee78a"
  },
  {
   "cell_type": "code",
   "execution_count": null,
   "outputs": [],
   "source": [
    "for st in st_list:\n",
    "    for tr in st:\n",
    "        t1 = tr.stats.starttime\n",
    "        t2 = t1 + time_length_s\n",
    "        tr.trim(t1,t2)\n",
    "        \n",
    "st1_all = st_list[0].copy().differentiate()\n",
    "st2_all = st_list[1].copy().differentiate()"
   ],
   "metadata": {
    "collapsed": false
   },
   "id": "e494caae11d03e9b"
  },
  {
   "cell_type": "code",
   "execution_count": null,
   "outputs": [],
   "source": [
    "stations_info = np.genfromtxt(stations_file, dtype=str)\n",
    "\n",
    "stations = stations_info[:,0]\n",
    "latitudes = np.array([float(i) for i in stations_info[:,2]])\n",
    "longitudes = np.array([float(i) for i in stations_info[:,3]])\n",
    "\n",
    "mask = np.char.startswith(stations, 'C')\n",
    "\n",
    "stations = stations[~mask]\n",
    "latitudes = latitudes[~mask]\n",
    "longitudes = longitudes[~mask]"
   ],
   "metadata": {
    "collapsed": false
   },
   "id": "f1e834235bd978a4"
  },
  {
   "cell_type": "code",
   "execution_count": null,
   "outputs": [],
   "source": [
    "misfit = np.zeros((len(misfit_functions),len(stations)))"
   ],
   "metadata": {
    "collapsed": false
   },
   "id": "a70ee9ba2d480296"
  },
  {
   "cell_type": "code",
   "execution_count": null,
   "outputs": [],
   "source": [
    "# compute misfit\n",
    "\n",
    "st1s = [st1_all.select(station=station) for station in stations]\n",
    "st2s = [st2_all.select(station=station) for station in stations]\n",
    "\n",
    "for i, misfit_function in enumerate(misfit_functions):\n",
    "    \n",
    "    if misfit_function=='waveform':\n",
    "        with concurrent.futures.ProcessPoolExecutor(max_workers=workers) as executor:\n",
    "            data = list(executor.map(waveform, st2s, st1s))\n",
    "        misfit[i,:] = np.array(data)\n",
    "    elif misfit_function=='envelope':\n",
    "        with concurrent.futures.ProcessPoolExecutor(max_workers=workers) as executor:\n",
    "            data = list(executor.map(envelope, st2s, st1s))\n",
    "        misfit[i,:] = np.array(data)\n",
    "    elif misfit_function=='instantaneous_phase':\n",
    "        with concurrent.futures.ProcessPoolExecutor(max_workers=workers) as executor:\n",
    "            data = list(executor.map(instantaneous_phase, st2s, st1s))\n",
    "        misfit[i,:] = np.array(data)\n",
    "    elif misfit_function=='traveltime':\n",
    "        with concurrent.futures.ProcessPoolExecutor(max_workers=workers) as executor:\n",
    "            data = list(executor.map(traveltime, st2s, st1s))\n",
    "        misfit[i,:] = np.array(data)\n",
    "                \n",
    "if write:\n",
    "    for i, misfit_function in enumerate(misfit_functions):\n",
    "        np.save(f'{misfit_function}', [misfit[i,:], latitudes, longitudes])"
   ],
   "metadata": {
    "collapsed": false
   },
   "id": "e8d4995420cf6efb"
  },
  {
   "cell_type": "code",
   "execution_count": null,
   "outputs": [],
   "source": [
    "# misfit distribution across stations\n",
    "\n",
    "# highlight stations with low and high misfit\n",
    "stations_selected = ['R33-25', 'R18-17']\n",
    "    \n",
    "x = longitudes/1000\n",
    "y = latitudes/1000\n",
    "\n",
    "for i, misfit_function in enumerate(misfit_functions):\n",
    "\n",
    "    # uncomment the following line of code to load pre-saved misfit values \n",
    "    # misfit[i,:], latitudes, longitudes = np.load(f\"\"\n",
    "    # f\"../Data/Brown2016/misfit_{misfit_function}.npy\")\n",
    "\n",
    "    fig = pygmt.Figure()\n",
    "    fig.basemap(region=[-156, 156, -156, 156], projection=\"X10c/10c\", \n",
    "                frame=True)\n",
    "    pygmt.makecpt(cmap=\"jet\", \n",
    "                  series=[1.01*np.min(misfit[i,:]), 1.01*np.max(misfit[i,:])])\n",
    "    fig.plot(x=x, y=y, style='t0.1c', fill=misfit[i,:], cmap=True)\n",
    "    \n",
    "    # highlight stations with low and high misfit\n",
    "    for station in stations_selected:\n",
    "        st_select = st1_all.select(station=station)\n",
    "        x1 = st_select[0].stats.sac['stlo'] / 1000\n",
    "        y1 = st_select[0].stats.sac['stla'] / 1000\n",
    "        fig.plot(x=x1, y=y1, style='c0.2c', pen='0.75p,black')\n",
    "    \n",
    "    fig.colorbar(frame=[f\"x+l{misfit_function} misfit\", \"y+l \"])\n",
    "    if write: fig.savefig(f'variability_scatter_{models[0]}_vs_{models[1]}_'\n",
    "                          f'{misfit_function}_misfit.png', bbox_inches='tight')\n",
    "    fig.show()"
   ],
   "metadata": {
    "collapsed": false
   },
   "id": "85f0d128b6af6d2e"
  },
  {
   "cell_type": "code",
   "execution_count": null,
   "outputs": [],
   "source": [
    "indices = np.argsort(misfit[0,:])\n",
    "sorted_stations = stations[indices]\n",
    "\n",
    "# low misfit stations starting with the lowest\n",
    "print(f\"low misfit stations\\n{sorted_stations[0:100]}\\n\")\n",
    "\n",
    "# high misfit stations starting with the highest\n",
    "print(f\"high misfit stations\\n{sorted_stations[-100:][::-1]}\")"
   ],
   "metadata": {
    "collapsed": false
   },
   "id": "42eee74b5b4b17aa"
  },
  {
   "cell_type": "code",
   "execution_count": null,
   "id": "d22f008df52dd764",
   "metadata": {
    "collapsed": false
   },
   "outputs": [],
   "source": [
    "# plot seismograms for a station\n",
    "\n",
    "station = \"R33-25\"\n",
    "#station = \"R18-17\"\n",
    "\n",
    "plot_components = ['Z', 'Y', 'X']\n",
    "\n",
    "vp = np.sqrt(118.3333E9/3378)\n",
    "vs = np.sqrt(41.4333E9/3378)\n",
    "\n",
    "st1 = st1_all.select(station=station)\n",
    "st2 = st2_all.select(station=station)\n",
    "\n",
    "x1 = st1[0].stats.sac['stlo']\n",
    "y1 = st1[0].stats.sac['stla']\n",
    "x2 = st1[0].stats.sac['evlo']\n",
    "y2 = st1[0].stats.sac['evla']\n",
    "evdp = st1[0].stats.sac['evdp'] * 1000\n",
    "\n",
    "source_station_distance = np.sqrt( (y2-y1)**2 + (x2-x1)**2 + evdp**2 )\n",
    "\n",
    "tp = source_station_distance / vp\n",
    "ts = source_station_distance / vs\n",
    "\n",
    "fig, axs = plt.subplots(3,1,figsize=(10,20)) \n",
    "max_velocity = 0\n",
    "for i, component in enumerate(plot_components):\n",
    "    tr1 = st1.select(component=component)[0]\n",
    "    tr2 = st2.select(component=component)[0]\n",
    "    axs[i].plot(tr1.times()+tr1.stats.sac['b'], tr1.data, c='k', \n",
    "                label=f'{models[0]}')\n",
    "    axs[i].plot(tr2.times()+tr2.stats.sac['b'], tr2.data, c='r', \n",
    "                label=f'{models[1]}') \n",
    "    axs[i].axvline(x=tp, color='b', linestyle='--')\n",
    "    axs[i].axvline(x=ts, color='b', linestyle='--')\n",
    "    axs[i].set_title(f'component = {component}')\n",
    "    axs[i].set_xlabel('time (s)')\n",
    "    axs[i].set_ylabel('velocity (m/s)')\n",
    "    axs[i].legend()\n",
    "    max_velocity = max([max_velocity, max(abs(tr1.data)), max(abs(tr2.data))])\n",
    "    \n",
    "for i, _ in enumerate(plot_components):\n",
    "    axs[i].set_ylim([-1.1 * max_velocity, 1.1 * max_velocity])\n",
    "    \n",
    "fig.suptitle(f'{station}')\n",
    "plt.show()"
   ]
  }
 ],
 "metadata": {
  "kernelspec": {
   "display_name": "Python 3 (ipykernel)",
   "language": "python",
   "name": "python3"
  },
  "language_info": {
   "codemirror_mode": {
    "name": "ipython",
    "version": 3
   },
   "file_extension": ".py",
   "mimetype": "text/x-python",
   "name": "python",
   "nbconvert_exporter": "python",
   "pygments_lexer": "ipython3",
   "version": "3.12.3"
  }
 },
 "nbformat": 4,
 "nbformat_minor": 5
}
