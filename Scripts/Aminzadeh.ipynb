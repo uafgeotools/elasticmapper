{
 "cells": [
  {
   "cell_type": "code",
   "execution_count": null,
   "metadata": {
    "collapsed": true
   },
   "outputs": [],
   "source": [
    "import concurrent.futures\n",
    "import os\n",
    "import sys\n",
    "from functools import partial\n",
    "\n",
    "sys.path.append('..')\n",
    "\n",
    "import matplotlib.pyplot as plt\n",
    "import numpy as np\n",
    "\n",
    "from materials import get_materials_Cvec\n",
    "from safe_module import distance\n",
    "from themes import colors\n",
    "from themes import symmetry_classes"
   ]
  },
  {
   "cell_type": "code",
   "execution_count": null,
   "outputs": [],
   "source": [
    "pressures_BUK = [0.1, 2,  5, 10, 20, 50, 80, 100]\n",
    "pressures_GRM = [0.1, 5, 10, 15, 20, 50, 80, 100]"
   ],
   "metadata": {
    "collapsed": false
   }
  },
  {
   "cell_type": "code",
   "execution_count": null,
   "outputs": [],
   "source": [
    "c_vecs = get_materials_Cvec(material=\"Aminzadeh\")\n",
    "n_materials = len(c_vecs)\n",
    "n_pressures_BUK = len(pressures_BUK)\n",
    "n_pressures_GRM = len(pressures_GRM)\n",
    "\n",
    "n_symmetry_classes = len(symmetry_classes)\n",
    "\n",
    "num_workers = os.cpu_count()\n",
    "\n",
    "betas_BUK = np.zeros((n_symmetry_classes, n_pressures_BUK))\n",
    "betas_GRM = np.zeros((n_symmetry_classes, n_pressures_GRM))\n",
    "\n",
    "c_vecs   = c_vecs * n_symmetry_classes\n",
    "sigmas   = [sigma for sigma in symmetry_classes for _ in range(n_materials)]\n",
    "\n",
    "distance_new = partial(distance, use_parallel_processing=False)\n",
    "with concurrent.futures.ProcessPoolExecutor(max_workers=num_workers) as executor:\n",
    "    results = list(executor.map(distance_new, c_vecs, sigmas))\n",
    "    \n",
    "betas, thetas, sigmas, phis = list(zip(*results))    \n",
    "\n",
    "for i in range(n_symmetry_classes):\n",
    "    index = i * n_materials\n",
    "    betas_BUK[i,:]  = betas[index : index+n_pressures_BUK]\n",
    "    betas_GRM[i,:]  = betas[index+n_pressures_BUK : index+n_materials]"
   ],
   "metadata": {
    "collapsed": false
   }
  },
  {
   "cell_type": "code",
   "execution_count": null,
   "outputs": [],
   "source": [
    "plt.figure(figsize=(6,10))\n",
    "\n",
    "for i, sym_class in enumerate(symmetry_classes):\n",
    "    plt.scatter(pressures_BUK, betas_BUK[i], color=colors[sym_class], s=30, label=sym_class)\n",
    "    plt.plot(pressures_BUK, betas_BUK[i], color=colors[sym_class])\n",
    "\n",
    "plt.xscale('log')\n",
    "plt.legend(loc=1, fontsize=13, title=r'${\\Sigma}$ (BUK)', title_fontsize=15)\n",
    "plt.xticks(fontsize=15)\n",
    "plt.yticks(fontsize=15)\n",
    "plt.ylim(0,16)\n",
    "plt.grid()\n",
    "plt.xlabel(\"Pressure (MPa)\", fontsize=20)\n",
    "plt.ylabel(r'$\\beta_{\\Sigma}$ (°)', fontsize=20)\n",
    "#plt.savefig('BUK.png')"
   ],
   "metadata": {
    "collapsed": false
   }
  },
  {
   "cell_type": "code",
   "execution_count": null,
   "outputs": [],
   "source": [
    "plt.figure(figsize=(6,10))\n",
    "\n",
    "for i, sym_class in enumerate(symmetry_classes):\n",
    "    plt.scatter(pressures_GRM, betas_GRM[i], color=colors[sym_class], s=30, label=sym_class)\n",
    "    plt.plot(pressures_GRM, betas_GRM[i], color=colors[sym_class],)\n",
    "\n",
    "plt.xscale('log')\n",
    "plt.legend(loc=1, fontsize=13, title=r'${\\Sigma}$ (GRM)', title_fontsize=15)\n",
    "plt.xticks(fontsize=15)\n",
    "plt.yticks(fontsize=15)\n",
    "plt.ylim(0,16)\n",
    "plt.grid()\n",
    "plt.xlabel(\"Pressure (MPa)\", fontsize=20)\n",
    "plt.ylabel(r'$\\beta_{\\Sigma}$ (°)', fontsize=20)\n",
    "#plt.savefig('GRM.png')"
   ],
   "metadata": {
    "collapsed": false
   }
  }
 ],
 "metadata": {
  "kernelspec": {
   "display_name": "Python 3",
   "language": "python",
   "name": "python3"
  },
  "language_info": {
   "codemirror_mode": {
    "name": "ipython",
    "version": 2
   },
   "file_extension": ".py",
   "mimetype": "text/x-python",
   "name": "python",
   "nbconvert_exporter": "python",
   "pygments_lexer": "ipython2",
   "version": "2.7.6"
  }
 },
 "nbformat": 4,
 "nbformat_minor": 0
}
