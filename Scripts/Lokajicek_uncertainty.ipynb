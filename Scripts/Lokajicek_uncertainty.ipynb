{
 "cells": [
  {
   "cell_type": "code",
   "execution_count": null,
   "outputs": [],
   "source": [
    "import matplotlib.pyplot as plt\n",
    "import numpy as np\n",
    "\n",
    "from materials import get_materials_Cvec\n",
    "from safe_module import distance"
   ],
   "metadata": {
    "collapsed": false
   }
  },
  {
   "cell_type": "code",
   "execution_count": null,
   "outputs": [],
   "source": [
    "write = False"
   ],
   "metadata": {
    "collapsed": false
   }
  },
  {
   "cell_type": "code",
   "execution_count": null,
   "outputs": [],
   "source": [
    "# histograms\n",
    "\n",
    "def hist(betas, sigma, c_sigma):\n",
    "\n",
    "    global axs, p, k\n",
    "\n",
    "    mean = np.mean(betas)\n",
    "    stdv = np.std(betas)\n",
    "\n",
    "    bin_width = 0.1\n",
    "\n",
    "    ax = axs[k]\n",
    "    n, _, _ = ax.hist(betas, bins=np.arange(0, 60 + bin_width, bin_width), density=True)\n",
    "    #ax.set_xlim(-0.1 * max(betas), 1.1 * max(betas))\n",
    "    #ax.set_xlim(0, 40)\n",
    "    ax.axvline(beta0,color='k')\n",
    "    ax.axvline(mean,color='r')\n",
    "    ax.axvline(mean-2*stdv,color='r',linestyle='--')\n",
    "    ax.axvline(mean+2*stdv,color='r',linestyle='--')\n",
    "    ax.set_title(r'$\\beta_{{{}}}$ ($\\mu$ = {:.1f}, 2$\\sigma$ = {:.1f}), c_sigma = {:.1f}'.format(sigma, mean, 2*stdv, c_sigma),\n",
    "                 fontsize = 30)\n",
    "    ax.tick_params(axis='both', which='major', labelsize=30)\n",
    "\n",
    "    p[k] = n[0]"
   ],
   "metadata": {
    "collapsed": false
   }
  },
  {
   "cell_type": "code",
   "execution_count": null,
   "outputs": [],
   "source": [
    "# Uncertainty analysis for WG100 (0.1 MPa) from Lokajicek et al. 2021\n",
    "\n",
    "c_vecs = get_materials_Cvec(material=\"Lokajicek\")\n",
    "c_vec = c_vecs[4]\n",
    "data_size = 10000\n",
    "sigma = 'ISO'"
   ],
   "metadata": {
    "collapsed": false
   }
  },
  {
   "cell_type": "code",
   "execution_count": null,
   "outputs": [],
   "source": [
    "beta0 = distance(c_vec, 'ISO')[0]"
   ],
   "metadata": {
    "collapsed": false
   }
  },
  {
   "cell_type": "code",
   "execution_count": null,
   "outputs": [],
   "source": [
    "c_vec_stdvs = np.arange(0, 10.1, 0.2)\n",
    "n_stdvs = len(c_vec_stdvs)\n",
    "\n",
    "p = np.zeros(n_stdvs)\n",
    "betas_mean = np.zeros(n_stdvs)\n",
    "\n",
    "fig_depth = 5 * n_stdvs\n",
    "fig, axs = plt.subplots(n_stdvs,1,figsize=(16,fig_depth))\n",
    "for k, c_vec_stdv in enumerate(c_vec_stdvs):\n",
    "    print(f'running iteration {k} ....')\n",
    "    betas = np.empty(data_size)\n",
    "    for i in range(data_size):\n",
    "        c_vec_random = np.around( np.random.normal(c_vec, c_vec_stdv), 1 )\n",
    "        result = distance(c_vec_random, sigma)\n",
    "        betas[i] = result[0]\n",
    "\n",
    "    hist(betas, sigma, c_vec_stdv)\n",
    "    betas_mean[k] = np.mean(betas)\n",
    "\n",
    "plt.subplots_adjust(hspace=0.5)\n",
    "if write: plt.savefig('Lokajicek_uncertainty_3.png', bbox_inches='tight')\n",
    "plt.show()"
   ],
   "metadata": {
    "collapsed": false
   }
  },
  {
   "cell_type": "code",
   "execution_count": null,
   "outputs": [],
   "source": [
    "plt.figure()\n",
    "plt.plot(c_vec_stdvs, p)\n",
    "plt.xlabel('c_sigma')\n",
    "plt.ylabel('p(beta=0)')\n",
    "if write: plt.savefig('Lokajicek_uncertainty_1.png', bbox_inches='tight')\n",
    "plt.show()"
   ],
   "metadata": {
    "collapsed": false
   }
  },
  {
   "cell_type": "code",
   "execution_count": null,
   "outputs": [],
   "source": [
    "def fit_data(x, y, degree, x_plot):\n",
    "    p = np.polyfit(x, y, degree)\n",
    "    fit = []\n",
    "    for i, xp in enumerate(x_plot):\n",
    "        fit.append(0)\n",
    "        for j in range(degree+1):\n",
    "            fit[i] = fit[i] + p[degree-j] * xp ** j\n",
    "    return fit\n",
    "\n",
    "degree = 1\n",
    "\n",
    "x1 = c_vec_stdvs[5:31]\n",
    "y1 = betas_mean[5:31]\n",
    "x_plot1 = c_vec_stdvs\n",
    "fit1 = fit_data(x1, y1, degree, x_plot1)\n",
    "\n",
    "x2 = c_vec_stdvs[33:51]\n",
    "y2 = betas_mean[33:51]\n",
    "x_plot2 = c_vec_stdvs\n",
    "fit2 = fit_data(x2, y2, degree, x_plot2)\n",
    "\n",
    "plt.figure()\n",
    "plt.plot(c_vec_stdvs, betas_mean, '-o', label='data')\n",
    "plt.plot(x_plot1, fit1, 'r--', label='fit window 1')\n",
    "plt.plot(x_plot2, fit2, 'k--', label='fit window 2')\n",
    "plt.xlabel('c_sigma')\n",
    "plt.ylabel('mean(beta)')\n",
    "plt.legend()\n",
    "if write: plt.savefig('Lokajicek_uncertainty_2.png', bbox_inches='tight')\n",
    "plt.show()"
   ],
   "metadata": {
    "collapsed": false
   }
  }
 ],
 "metadata": {
  "kernelspec": {
   "display_name": "Python 3",
   "language": "python",
   "name": "python3"
  },
  "language_info": {
   "codemirror_mode": {
    "name": "ipython",
    "version": 2
   },
   "file_extension": ".py",
   "mimetype": "text/x-python",
   "name": "python",
   "nbconvert_exporter": "python",
   "pygments_lexer": "ipython2",
   "version": "2.7.6"
  }
 },
 "nbformat": 4,
 "nbformat_minor": 0
}
