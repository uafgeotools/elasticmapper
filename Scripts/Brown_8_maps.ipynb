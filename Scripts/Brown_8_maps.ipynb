{
 "cells": [
  {
   "cell_type": "code",
   "metadata": {
    "collapsed": true
   },
   "source": [
    "import concurrent.futures\n",
    "import os\n",
    "from functools import partial\n",
    "\n",
    "import matplotlib.pyplot as plt\n",
    "import numpy as np\n",
    "\n",
    "from materials import get_materials_Cvec\n",
    "from safe_module import distance\n",
    "from themes import color_themes\n",
    "from themes import symmetry_classes\n",
    "from utilities import read_table"
   ],
   "outputs": [],
   "execution_count": null
  },
  {
   "cell_type": "code",
   "source": [
    "write = False"
   ],
   "metadata": {
    "collapsed": false
   },
   "outputs": [],
   "execution_count": null
  },
  {
   "metadata": {},
   "cell_type": "code",
   "source": "colors = color_themes()",
   "outputs": [],
   "execution_count": null
  },
  {
   "cell_type": "code",
   "source": [
    "# Analysis for -\n",
    "# 1. - Brown2016 Table 2 materials (Brown)\n",
    "# 2. - BrownAbramson2016 Table 3 materials (BrownAbramson)\n",
    "\n",
    "study = \"Brown\"\n",
    "data_size = 1000\n",
    "compute = False"
   ],
   "metadata": {
    "collapsed": false
   },
   "outputs": [],
   "execution_count": null
  },
  {
   "cell_type": "code",
   "source": [
    "if study==\"Brown\":\n",
    "    materials = ['An0', 'An25', 'An37', 'An48', 'An60', 'An67', 'An78', 'An96']\n",
    "    n_materials = len(materials)\n",
    "    anorthite_percentages = [0, 25, 37, 48, 60, 67, 78, 96]\n",
    "    legend_title = \"Brown2016\"\n",
    "    data_dir = \"Brown2016\"\n",
    "\n",
    "elif study==\"BrownAbramson\":\n",
    "    materials = ['1', '2', '3', '4', '5', '6', '7', '8', '9']\n",
    "    n_materials = len(materials)\n",
    "    filename = \"../data/BrownAbramson2016_Table2.txt\"\n",
    "    composition = read_table(filename)\n",
    "    total_aluminium = np.zeros(n_materials)\n",
    "    for i in range(n_materials):\n",
    "        total_aluminium[i] = float(composition[1][i+1]) + float(composition[2][i+1])\n",
    "    legend_title = \"BA2016\"\n",
    "    data_dir = \"BrownAbramson2016\""
   ],
   "metadata": {
    "collapsed": false
   },
   "outputs": [],
   "execution_count": null
  },
  {
   "cell_type": "code",
   "source": [
    "workers = os.cpu_count()\n",
    "n_symmetry_classes = len(symmetry_classes)\n",
    "vecs = get_materials_Cvec(material=study)\n",
    "c_vecs = [vecs[i] for i in np.arange(0,n_materials*2,2)]\n",
    "stdv_vecs = [vecs[i] for i in np.arange(1,n_materials*2,2)]"
   ],
   "metadata": {
    "collapsed": false
   },
   "outputs": [],
   "execution_count": null
  },
  {
   "cell_type": "code",
   "source": [
    "means = np.empty((n_symmetry_classes, n_materials))\n",
    "stdvs = np.empty((n_symmetry_classes, n_materials))"
   ],
   "metadata": {
    "collapsed": false
   },
   "outputs": [],
   "execution_count": null
  },
  {
   "cell_type": "code",
   "source": [
    "# Section to find beta values for the realizations\n",
    "\n",
    "if compute:\n",
    "    for i, material in enumerate(materials):\n",
    "        \n",
    "        print(f'running analysis for material {material}')\n",
    "        \n",
    "        if write:\n",
    "            with open('status.txt', 'a') as f:\n",
    "                f.write(f'running analysis for material {material}\\n')\n",
    "            \n",
    "            with open(f'output_{material}.txt', 'w') as f:\n",
    "                f.write('C11 \\tC12 \\tC13 \\tC14 \\tC15 \\tC16 \\tC22 \\tC23 \\tC24 \\tC25 \\tC26 \\tC33 \\tC34 \\tC35 \\tC36 \\tC44 '\n",
    "                 '\\tC45 \\tC46 \\tC55 \\tC56 \\tC66\\n')\n",
    "    \n",
    "        cvecs = []\n",
    "    \n",
    "        for _ in range(data_size):\n",
    "            c_vec_random = np.around( np.random.normal( c_vecs[i], stdv_vecs[i]), 1 )\n",
    "            if write:\n",
    "                with open(f'output_{material}.txt', 'a') as f:\n",
    "                    for value in c_vec_random:\n",
    "                        f.write(f'{value:.1f} \\t')\n",
    "                    f.write('\\n')\n",
    "            cvecs.append(c_vec_random)\n",
    "            \n",
    "        betas = np.empty((n_symmetry_classes, data_size))\n",
    "    \n",
    "        distance_new = partial(distance, use_parallel_processing=False)\n",
    "    \n",
    "        for j, sigma in enumerate(symmetry_classes):   \n",
    "            print(f'running minimizer for symmetry class: {sigma}')\n",
    "            if write:\n",
    "                with open('status.txt', 'a') as f:\n",
    "                    f.write(f'running minimizer for symmetry class: {sigma}\\n')\n",
    "            with concurrent.futures.ProcessPoolExecutor(max_workers=workers) as executor:\n",
    "                results = list(executor.map(distance_new, cvecs, [sigma]*data_size))\n",
    "            for k in range(data_size):\n",
    "                betas[j,k] = results[k][0]\n",
    "        \n",
    "            means[j,i] = np.mean(betas[j,:])\n",
    "            stdvs[j,i] = np.std(betas[j,:])\n",
    "            \n",
    "        if write: np.save(f'betas_brown_{material}_1000', betas)\n",
    "        \n",
    "else:\n",
    "    \n",
    "    for i, material in enumerate(materials):\n",
    "        betas = np.load(f\"Data/{data_dir}/betas_brown_{material}_{data_size}.npy\")\n",
    "        for j in range(n_symmetry_classes):   \n",
    "            means[j,i] = np.mean(betas[j,:])\n",
    "            stdvs[j,i] = np.std(betas[j,:])"
   ],
   "metadata": {
    "collapsed": false
   },
   "outputs": [],
   "execution_count": null
  },
  {
   "cell_type": "code",
   "source": [
    "if study==\"Brown\":\n",
    "    clrs = ['red', 'orange', 'teal', 'cyan', 'blue', 'purple', 'grey', 'black']\n",
    "elif study==\"BrownAbramson\":\n",
    "    clrs = ['red', 'orange', 'teal', 'cyan', 'blue', 'purple', 'brown', 'grey', 'black']\n",
    "    \n",
    "plt.figure(figsize=(7,10))\n",
    "x = np.arange(n_symmetry_classes)\n",
    "for i, material in enumerate(materials):\n",
    "    plt.plot(x, means[:,i], '-o', label=material, color=clrs[i])\n",
    "    plt.errorbar(x, means[:,i], yerr=2*stdvs[:,i], color=clrs[i], capsize=5, capthick=1)\n",
    "plt.xticks(x, symmetry_classes, fontsize=15)\n",
    "plt.yticks(fontsize=15)\n",
    "plt.legend(loc=1, fontsize=13, title=f\"{legend_title}\", title_fontsize=15)\n",
    "plt.grid()\n",
    "plt.xlabel(r'${\\Sigma}$', fontsize=20)\n",
    "plt.ylabel(r'$\\beta_{\\Sigma}$ (°)', fontsize=20)\n",
    "if write: plt.savefig('1.png', bbox_inches='tight')"
   ],
   "metadata": {
    "collapsed": false
   },
   "outputs": [],
   "execution_count": null
  },
  {
   "cell_type": "code",
   "source": [
    "plt.figure(figsize=(7,10))\n",
    "\n",
    "if study==\"Brown\":\n",
    "    x = anorthite_percentages\n",
    "    for i, symmetry_class in enumerate(symmetry_classes):\n",
    "        plt.plot(x, means[i], '-o', color=colors[symmetry_class], label=symmetry_class)\n",
    "        plt.errorbar(x, means[i], yerr=2*stdvs[i], color=colors[symmetry_class], capsize=5, capthick=1)\n",
    "    plt.xlabel('Anorthite percentage', fontsize=20)\n",
    "    plt.xticks(np.arange(0,101,10), fontsize=15)\n",
    "    plt.legend(loc=1, fontsize=13, title=\"${\\Sigma}$\"+f\" ({legend_title})\", title_fontsize=15)\n",
    "    \n",
    "elif study==\"BrownAbramson\":    \n",
    "    x = total_aluminium\n",
    "    index = np.argsort(x)\n",
    "    for i, symmetry_class in enumerate(symmetry_classes):\n",
    "        plt.plot(x[index], means[i][index], '-o', color=colors[symmetry_class], label=symmetry_class)\n",
    "        plt.errorbar(x[index], means[i][index], yerr=2*stdvs[i][index], color=colors[symmetry_class], capsize=5, capthick=1)\n",
    "    plt.xlabel('Total aluminium (atoms/F.U.)', fontsize=20)\n",
    "    plt.xticks(fontsize=15)\n",
    "    plt.legend(loc=1, fontsize=10, title='${\\Sigma}$ (BA2016)', title_fontsize=10)\n",
    "\n",
    "plt.yticks(fontsize=15)\n",
    "plt.grid()\n",
    "plt.ylabel(r'$\\beta_{\\Sigma}$ (°)', fontsize=22)\n",
    "if write: plt.savefig('2.png', bbox_inches='tight')"
   ],
   "metadata": {
    "collapsed": false
   },
   "outputs": [],
   "execution_count": null
  }
 ],
 "metadata": {
  "kernelspec": {
   "display_name": "Python 3",
   "language": "python",
   "name": "python3"
  },
  "language_info": {
   "codemirror_mode": {
    "name": "ipython",
    "version": 2
   },
   "file_extension": ".py",
   "mimetype": "text/x-python",
   "name": "python",
   "nbconvert_exporter": "python",
   "pygments_lexer": "ipython2",
   "version": "2.7.6"
  }
 },
 "nbformat": 4,
 "nbformat_minor": 0
}
