{
 "cells": [
  {
   "cell_type": "code",
   "execution_count": null,
   "metadata": {
    "collapsed": true
   },
   "outputs": [],
   "source": [
    "import concurrent.futures\n",
    "import os\n",
    "import sys\n",
    "from functools import partial\n",
    "\n",
    "sys.path.append('..')\n",
    "\n",
    "import matplotlib.pyplot as plt\n",
    "import numpy as np\n",
    "\n",
    "from materials import get_materials_Cvec\n",
    "from safe_module import distance\n",
    "from themes import colors\n",
    "from themes import symmetry_classes"
   ]
  },
  {
   "cell_type": "code",
   "execution_count": null,
   "outputs": [],
   "source": [
    "# Analysis for Brown et al. 2016 Table 2 materials\n",
    "\n",
    "workers = os.cpu_count()\n",
    "\n",
    "materials = ['An0', 'An25', 'An37', 'An48', 'An60', 'An67', 'An78', 'An96']\n",
    "anorthite_percentages = [0, 25, 37, 48, 60, 67, 78, 96]\n",
    "data_size = 5\n",
    "\n",
    "n_materials = len(materials)\n",
    "n_symmetry_classes = len(symmetry_classes)"
   ],
   "metadata": {
    "collapsed": false
   }
  },
  {
   "cell_type": "code",
   "execution_count": null,
   "outputs": [],
   "source": [
    "vecs = (get_materials_Cvec(material=\"Brown\"))\n",
    "\n",
    "c_vecs_Brown = [vecs[i] for i in np.arange(0,15,2)]\n",
    "stdv_vecs_Brown = [vecs[i] for i in np.arange(1,16,2)]"
   ],
   "metadata": {
    "collapsed": false
   }
  },
  {
   "cell_type": "code",
   "execution_count": null,
   "outputs": [],
   "source": [
    "# Section to find beta values for realizations of the Brown2016 materials\n",
    "\n",
    "means_Brown = np.empty((n_symmetry_classes, n_materials))\n",
    "stdvs_Brown = np.empty((n_symmetry_classes, n_materials))\n",
    "\n",
    "for i in range(n_materials):\n",
    "    \n",
    "    print(f'running analysis for material {materials[i]}')\n",
    "    \n",
    "    with open(f'output_{materials[i]}.txt', 'w') as f:\n",
    "        f.write('C11 \\tC12 \\tC13 \\tC14 \\tC15 \\tC16 \\tC22 \\tC23 \\tC24 \\tC25 \\tC26 \\tC33 \\tC34 \\tC35 \\tC36 \\tC44 '\n",
    "         '\\tC45 \\tC46 \\tC55 \\tC56 \\tC66\\n')\n",
    "\n",
    "    c_vecs = []\n",
    "\n",
    "    for _ in range(data_size):\n",
    "        c_vec_Brown_random = np.around( np.random.normal( c_vecs_Brown[i], stdv_vecs_Brown[i]), 1 )\n",
    "        with open(f'output_{materials[i]}.txt', 'a') as f:\n",
    "            for value in c_vec_Brown_random:\n",
    "                f.write(f'{value:.1f} \\t')\n",
    "            f.write('\\n')\n",
    "        c_vecs.append(c_vec_Brown_random)\n",
    "        \n",
    "    betas = np.empty((n_symmetry_classes, data_size))\n",
    "\n",
    "    distance_new = partial(distance, use_parallel_processing=False)\n",
    "\n",
    "    for j, sigma in enumerate(symmetry_classes):   \n",
    "        print(f'running minimizer for symmetry class: {sigma}')\n",
    "        with concurrent.futures.ProcessPoolExecutor(max_workers=workers) as executor:\n",
    "            results = list(executor.map(distance_new, c_vecs, [sigma]*data_size))\n",
    "        for k in range(data_size):\n",
    "            betas[j,k] = results[k][0]\n",
    "    \n",
    "        means_Brown[j,i] = np.mean(betas[j,:])\n",
    "        stdvs_Brown[j,i] = np.std(betas[j,:])\n",
    "        \n",
    "    np.save(f'betas_brown_{materials[i]}', betas)"
   ],
   "metadata": {
    "collapsed": false
   }
  },
  {
   "cell_type": "code",
   "execution_count": null,
   "outputs": [],
   "source": [
    "# Section to analyze saved beta values\n",
    "\n",
    "means_Brown = np.empty((n_symmetry_classes, n_materials))\n",
    "stdvs_Brown = np.empty((n_symmetry_classes, n_materials))\n",
    "\n",
    "for i in range(n_materials):\n",
    "    \n",
    "    betas = np.load(f'betas_brown_{materials[i]}.npy')\n",
    "\n",
    "    for j in range(n_symmetry_classes):   \n",
    "        means_Brown[j,i] = np.mean(betas[j,:])\n",
    "        stdvs_Brown[j,i] = np.std(betas[j,:])"
   ],
   "metadata": {
    "collapsed": false
   }
  },
  {
   "cell_type": "code",
   "execution_count": null,
   "outputs": [],
   "source": [
    "plt.figure(figsize=(7,10))\n",
    "\n",
    "x = np.arange(n_symmetry_classes)\n",
    "\n",
    "clrs = ['red', 'orange', 'teal', 'cyan', 'blue', 'purple', 'grey', 'black']\n",
    "\n",
    "for i, material in enumerate(materials):\n",
    "    plt.plot(x, means_Brown[:,i], '-o', label=material, color=clrs[i])\n",
    "    plt.errorbar(x, means_Brown[:,i], yerr=2*stdvs_Brown[:,i], color=clrs[i], capsize=5, capthick=1)\n",
    "\n",
    "plt.xticks(x, symmetry_classes, fontsize=15)\n",
    "plt.yticks(fontsize=15)\n",
    "plt.legend(loc=1, fontsize=13, title='(Brown2016)', title_fontsize=15)\n",
    "plt.grid()\n",
    "plt.xlabel(r'${\\Sigma}$', fontsize=20)\n",
    "plt.ylabel(r'$\\beta_{\\Sigma}$ (°)', fontsize=20)\n",
    "plt.savefig('Brown_Table2_1.png')"
   ],
   "metadata": {
    "collapsed": false
   }
  },
  {
   "cell_type": "code",
   "execution_count": null,
   "outputs": [],
   "source": [
    "plt.figure(figsize=(7,10))\n",
    "\n",
    "x = anorthite_percentages\n",
    "\n",
    "for i, symmetry_class in enumerate(symmetry_classes):\n",
    "    plt.plot(x, means_Brown[i], '-o', color=colors[symmetry_class], label=symmetry_class)\n",
    "    plt.errorbar(x, means_Brown[i], yerr=2*stdvs_Brown[i], color=colors[symmetry_class], capsize=5, capthick=1)\n",
    "\n",
    "plt.xticks(np.arange(0,101,10), fontsize=15)\n",
    "plt.yticks(fontsize=15)\n",
    "plt.legend(loc=1, fontsize=13, title='${\\Sigma}$ (Brown2016)', title_fontsize=15)\n",
    "plt.grid()\n",
    "plt.xlabel('Anorthite percentage (%)', fontsize=20)\n",
    "plt.ylabel(r'$\\beta_{\\Sigma}$ (°)', fontsize=20)\n",
    "plt.savefig('Brown_Table2_2.png')"
   ],
   "metadata": {
    "collapsed": false
   }
  }
 ],
 "metadata": {
  "kernelspec": {
   "display_name": "Python 3",
   "language": "python",
   "name": "python3"
  },
  "language_info": {
   "codemirror_mode": {
    "name": "ipython",
    "version": 2
   },
   "file_extension": ".py",
   "mimetype": "text/x-python",
   "name": "python",
   "nbconvert_exporter": "python",
   "pygments_lexer": "ipython2",
   "version": "2.7.6"
  }
 },
 "nbformat": 4,
 "nbformat_minor": 0
}
