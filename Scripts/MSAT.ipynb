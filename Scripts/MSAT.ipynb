{
 "cells": [
  {
   "cell_type": "code",
   "outputs": [],
   "source": [
    "import numpy as np\n",
    "import scipy as sp\n",
    "\n",
    "from plotter import Plotter"
   ],
   "metadata": {
    "collapsed": true
   },
   "execution_count": null
  },
  {
   "cell_type": "code",
   "outputs": [],
   "source": [
    "write = True"
   ],
   "metadata": {
    "collapsed": false
   },
   "execution_count": null
  },
  {
   "cell_type": "code",
   "outputs": [],
   "source": [
    "study = \"MSAT\"\n",
    "file_path = \"../data/TX2008.V1.P010.dat\"\n",
    "data = np.loadtxt(file_path)\n",
    "n_material = np.size(data,0)\n",
    "lons = data[:n_material,1]\n",
    "lats = data[:n_material,0]\n",
    "cijs = data[:n_material,3:24]"
   ],
   "metadata": {
    "collapsed": false
   },
   "execution_count": null
  },
  {
   "cell_type": "code",
   "outputs": [],
   "source": [
    "betas = np.load(f\"Data/{study}/betas_{study}.npy\")\n",
    "thetas = np.load(f\"Data/{study}/thetas_{study}.npy\")\n",
    "sigmas = np.load(f\"Data/{study}/sigmas_{study}.npy\")\n",
    "phis = np.load(f\"Data/{study}/phis_{study}.npy\")\n",
    "dp_m1 = sp.io.loadmat(f\"Data/{study}/decomp_percentages_{study}.mat\")[\"DP_MS_axes\"]\n",
    "dp_m2 = sp.io.loadmat(f\"Data/{study}/decomp_percentages_{study}.mat\")[\"DP_MS_axes_X3_stiff\"]\n",
    "dp_m3 = sp.io.loadmat(f\"Data/{study}/decomp_percentages_{study}.mat\")[\"DP_I\"]\n",
    "dp_m1_bug = sp.io.loadmat(f\"Data/{study}/decomp_percentages_{study}_bug.mat\")[\"DP_MS_axes\"]\n",
    "ani_i = sp.io.loadmat(\"Data/MSAT/anisotropy_index_MSAT.mat\")['C']"
   ],
   "metadata": {
    "collapsed": false
   },
   "execution_count": null
  },
  {
   "cell_type": "code",
   "outputs": [],
   "source": [
    "def cumulation(decomp_percentages):\n",
    "    n = decomp_percentages.shape[1]\n",
    "    cumulative_percentages = np.copy(decomp_percentages)\n",
    "    for i in range(1,n):\n",
    "        cumulative_percentages[:,i] += cumulative_percentages[:,i-1]\n",
    "    return cumulative_percentages\n",
    "\n",
    "def get_alpha(p_cumulative):\n",
    "    return np.rad2deg(np.arcsin(1 - p_cumulative)) \n",
    "        \n",
    "cumulative_dp_m1 = cumulation(dp_m1)\n",
    "cumulative_dp_m2 = cumulation(dp_m2)\n",
    "cumulative_dp_m3 = cumulation(dp_m3)\n",
    "\n",
    "alphas_m1 = np.zeros(np.shape(dp_m1))\n",
    "alphas_m2 = np.zeros(np.shape(dp_m2))\n",
    "alphas_m3 = np.zeros(np.shape(dp_m3))\n",
    "for i in range(dp_m1.shape[1]):\n",
    "    alphas_m1[:,i] = get_alpha(cumulative_dp_m1[:,i])\n",
    "    alphas_m2[:,i] = get_alpha(cumulative_dp_m2[:,i])\n",
    "    alphas_m3[:,i] = get_alpha(cumulative_dp_m3[:,i])"
   ],
   "metadata": {
    "collapsed": false
   },
   "execution_count": null
  },
  {
   "cell_type": "code",
   "outputs": [],
   "source": [
    "symmetry_classes = [\"ISO\",\"XISO\",\"TET\",\"ORTH\",\"MONO\"]"
   ],
   "metadata": {
    "collapsed": false
   },
   "execution_count": null
  },
  {
   "cell_type": "code",
   "outputs": [],
   "source": [
    "# alpha vs beta cmaps\n",
    "\n",
    "cmaps = [(\"RdYlGn\", False,  0.0,  4.0),\n",
    "         (   \"jet\", False,  0.0,  2.0),\n",
    "         (  \"BrBG\", False,  0.0,  1.5),\n",
    "         (  \"PiYG\", False,  0.0,  2.0),\n",
    "         (  \"PRGn\", False,  0.0,  1.0)]\n",
    "\n",
    "rcmaps = [(\"seismic\", False, None, None),\n",
    "          (   \"Reds\", False,  0.0,  0.5),\n",
    "          (   \"Reds\", False,  0.0,  0.3),\n",
    "          (   \"Reds\", False,  0.0,  0.5),\n",
    "          (   \"Reds\", False,  0.0,  0.5)]"
   ],
   "metadata": {
    "collapsed": false
   },
   "execution_count": null
  },
  {
   "cell_type": "code",
   "outputs": [],
   "source": [
    "plot = Plotter(lons, lats, central_longitude=0, write=write)"
   ],
   "metadata": {
    "collapsed": false
   },
   "execution_count": null
  },
  {
   "cell_type": "code",
   "outputs": [],
   "source": [
    "# alpha vs beta\n",
    "\n",
    "for i, sigma in enumerate(symmetry_classes):\n",
    "    x = betas[i,:]\n",
    "    y = alphas_m1[:,i]\n",
    "    xlabel = fr\"$\\beta_{{{sigma}}}$ (°)\"    \n",
    "    ylabel = fr\"$\\alpha_{{{sigma}}}$ (°)\"   \n",
    "    filename = f\"alpha_beta_{sigma}_{study}\"\n",
    "    plot.correlation_plots(x, y, xlabel, ylabel, cmaps1=cmaps[i], residual=True, rcmaps=rcmaps[i], trend=True, aspect=\"equal\", filename=filename)"
   ],
   "metadata": {
    "collapsed": false
   },
   "execution_count": null
  },
  {
   "cell_type": "code",
   "outputs": [],
   "source": [
    "for i, sigma in enumerate([\"XISO\"], start=1):\n",
    "\n",
    "    sigma2 = sigma\n",
    "    if sigma == \"XISO\":\n",
    "        sigma2 = \"HEX\"\n",
    "\n",
    "    # plot for betas\n",
    "    parameter = betas[i,:]\n",
    "    title = fr\"$\\beta_{{{sigma}}}$ (°)\"\n",
    "    cmap = [\"jet\", False, 0.00, 2.00]\n",
    "    filename = f\"beta_{sigma}_{study}\"\n",
    "    plot.global_plot(parameter, title, cmaps=cmap, filename=filename)\n",
    "    \n",
    "    # plot for thetas\n",
    "    parameter = abs(np.cos(thetas[i,:]))\n",
    "    title = \"|cos (azimuthal angle)|\"\n",
    "    cmap = [\"jet\", True, 0.00, 1.00]\n",
    "    filename = f\"azimuthal_angle_{sigma}_{study}\"\n",
    "    plot.global_plot(parameter, title, cmaps=cmap, filename=filename)\n",
    "    \n",
    "    # plot for thetas with points corresponding to sub-vertical phis masked    \n",
    "    parameter = abs(np.cos(thetas[i,:]))\n",
    "    parameter[np.cos(2*phis[i,:])>0.5] = np.nan\n",
    "    title = \"|cos (azimuthal angle)|\"\n",
    "    cmap = [\"jet\", True, 0.00, 1.00]\n",
    "    filename = f\"azimuthal_angle_subverticals_masked_{sigma}_{study}\"\n",
    "    plot.global_plot(parameter, title, cmaps=cmap, filename=filename)\n",
    "\n",
    "    # plot for sigmas\n",
    "    parameter = np.rad2deg(sigmas[i,:])\n",
    "    title = r\"$\\sigma$ (°)\"\n",
    "    cmap = [\"jet\", True, None, None]\n",
    "    filename = f\"sigma_{sigma}_{study}\"\n",
    "    plot.global_plot(parameter, title, cmaps=cmap, filename=filename)\n",
    "    \n",
    "    # plot for phis\n",
    "    parameter = np.cos(2*phis[i,:])\n",
    "    title = f\"cos (2 * polar angle)\"\n",
    "    cmap = [\"jet\", True, -1.00, 1.00]\n",
    "    filename = f\"polar_angle_{sigma}_{study}\"\n",
    "    plot.global_plot(parameter, title, cmaps=cmap, filename=filename)\n",
    "    \n",
    "    # plot for proportion of hexagonality as in the publication (bug)\n",
    "    # formula valid only when sigma = XISO\n",
    "    parameter = dp_m1_bug[:,i]/np.sum(dp_m1_bug[:,i:], axis=1)\n",
    "    title = f\"proportion_of_{sigma2}_publication\"\n",
    "    cmap = [\"jet\", True, 0.00, 1.00]\n",
    "    filename = f\"{title}_{study}\"\n",
    "    plot.global_plot(parameter, title, cmaps=cmap, filename=filename)\n",
    "    \n",
    "    # plot for proportion of hexagonality as intended in the publication (bug fixed)\n",
    "    # formula valid only when sigma = XISO\n",
    "    parameter = dp_m1[:,i]/np.sum(dp_m1[:,i:], axis=1)\n",
    "    title = f\"proportion_of_{sigma2}\"\n",
    "    cmap = [\"jet\", True, 0.00, 1.00]\n",
    "    filename = f\"{title}_{study}\"\n",
    "    plot.global_plot(parameter, title, cmaps=cmap, filename=filename)\n",
    "\n",
    "    # plot for hexagonality percentage\n",
    "    parameter = dp_m1[:,i] * 100\n",
    "    title = f\"{sigma2}_percentage\"\n",
    "    cmap = [\"jet\", True, 0.00, 4.00]\n",
    "    filename = f\"{title}_{study}\"\n",
    "    plot.global_plot(parameter, title, cmaps=cmap, filename=filename)"
   ],
   "metadata": {
    "collapsed": false
   },
   "execution_count": null
  },
  {
   "cell_type": "code",
   "outputs": [],
   "source": [
    "# XISO pairings\n",
    "\n",
    "# alpha_XISO\n",
    "a = alphas_m1[:,1]\n",
    "a_label = r\"$\\alpha_{XISO}$ (°)\"\n",
    "a_cmap = cmaps[1] \n",
    "\n",
    "# beta_XISO\n",
    "b = betas[1,:]\n",
    "b_label = r\"$\\beta_{XISO}$ (°)\"\n",
    "b_cmap = cmaps[1]\n",
    "\n",
    "# HEX_percentage\n",
    "c = dp_m1[:,1] * 100\n",
    "c_label = \"HEX_percentage\"\n",
    "c_cmap = [\"jet\", True, 0.00, 4.00]\n",
    "\n",
    "# proportion_of_HEX\n",
    "d = dp_m1[:,1]/np.sum(dp_m1[:,1:], axis=1)\n",
    "d_label = \"proportion_of_HEX\"\n",
    "d_cmap = [\"jet\", True, 0.00, 1.00]\n",
    "\n",
    "filename = f\"alpha_beta_XISO_{study}\"\n",
    "plot.correlation_plots(b, a, b_label, a_label, cmaps1=b_cmap, cmaps2=a_cmap, residual=False, trend=True, aspect=\"equal\", filename=filename)\n",
    "\n",
    "filename = f\"alpha_XISO_HEX_percentage_{study}\"\n",
    "plot.correlation_plots(a, c, a_label, c_label, cmaps1=a_cmap, cmaps2=c_cmap, residual=False, filename=filename)\n",
    "\n",
    "filename = f\"alpha_XISO_proportion_of_HEX_{study}\"\n",
    "plot.correlation_plots(a, d, a_label, d_label, cmaps1=a_cmap, cmaps2=d_cmap, residual=False, filename=filename)\n",
    "\n",
    "filename = f\"beta_XISO_HEX_percentage_{study}\"\n",
    "plot.correlation_plots(b, c, b_label, c_label, cmaps1=b_cmap, cmaps2=c_cmap, residual=False, filename=filename)\n",
    "\n",
    "filename = f\"beta_XISO_proportion_of_HEX_{study}\"\n",
    "plot.correlation_plots(b, d, b_label, d_label, cmaps1=b_cmap, cmaps2=d_cmap, residual=False, filename=filename)\n",
    "\n",
    "filename = f\"HEX_percentage_proportion_of_HEX_{study}\"\n",
    "plot.correlation_plots(c, d, c_label, d_label, cmaps1=c_cmap, cmaps2=d_cmap, residual=False, filename=filename)"
   ],
   "metadata": {
    "collapsed": false
   },
   "execution_count": null
  },
  {
   "cell_type": "code",
   "outputs": [],
   "source": [
    "for i, sigma in enumerate([\"ISO\"], start=0):\n",
    "\n",
    "    # anisotropy index vs beta\n",
    "    x = betas[i,:]\n",
    "    y = ani_i[0,:]\n",
    "    xlabel = fr\"$\\beta_{{{sigma}}}$ (°)\"    \n",
    "    ylabel = \"universal_elastic_anisotropy_index\"\n",
    "    cmap1 = [\"jet\", False, 0.00, 6.00]\n",
    "    cmap2 = [\"jet\", False, 0.00, 0.10]\n",
    "    filename = f\"universal_elastic_anisotropy_index_beta_{sigma}_{study}\"\n",
    "    plot.correlation_plots(x, y, xlabel, ylabel, cmaps1=cmap1, cmaps2=cmap2, residual=False, filename=filename)"
   ],
   "metadata": {
    "collapsed": false
   },
   "execution_count": null
  },
  {
   "cell_type": "code",
   "outputs": [],
   "source": [
    "# plot for anisotropy index\n",
    "parameter = ani_i[0,:]\n",
    "title = \"universal_elastic_anisotropy_index\"\n",
    "cmap = [\"jet\", True, 0.00, 0.10]\n",
    "filename = f\"{title}_{study}\"\n",
    "plot.global_plot(parameter, title, cmaps=cmap, filename=filename)"
   ],
   "metadata": {
    "collapsed": false
   }
  }
 ],
 "metadata": {
  "kernelspec": {
   "display_name": "Python 3",
   "language": "python",
   "name": "python3"
  },
  "language_info": {
   "codemirror_mode": {
    "name": "ipython",
    "version": 2
   },
   "file_extension": ".py",
   "mimetype": "text/x-python",
   "name": "python",
   "nbconvert_exporter": "python",
   "pygments_lexer": "ipython2",
   "version": "2.7.6"
  }
 },
 "nbformat": 4,
 "nbformat_minor": 0
}
