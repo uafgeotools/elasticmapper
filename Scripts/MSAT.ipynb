{
 "cells": [
  {
   "cell_type": "code",
   "execution_count": null,
   "metadata": {
    "collapsed": true
   },
   "outputs": [],
   "source": [
    "import concurrent.futures\n",
    "import os\n",
    "import sys\n",
    "from functools import partial\n",
    "\n",
    "sys.path.append('..')\n",
    "\n",
    "import cartopy.crs as ccrs\n",
    "import matplotlib.pyplot as plt\n",
    "import numpy as np\n",
    "import scipy as sp\n",
    "\n",
    "from safe_module import distance"
   ]
  },
  {
   "cell_type": "code",
   "execution_count": null,
   "outputs": [],
   "source": [
    "file_path = \"../../../MSAT/examples/lowermost/TX2008.V1.P010.dat\"\n",
    "data = np.loadtxt(file_path)\n",
    "\n",
    "n_material = np.size(data,0)\n",
    "\n",
    "lats = data[:,0]\n",
    "lons = data[:,1]\n",
    "rhos = data[:,2]\n",
    "cijs = data[:,3:24]\n",
    "\n",
    "c_vecs = [cijs[i,:] for i in range(n_material)]"
   ],
   "metadata": {
    "collapsed": false
   }
  },
  {
   "cell_type": "code",
   "execution_count": null,
   "outputs": [],
   "source": [
    "symmetry_class = ['XISO']\n",
    "num_workers = os.cpu_count()\n",
    "\n",
    "betas = np.empty((len(symmetry_class), n_material))\n",
    "thetas = np.empty((len(symmetry_class), n_material))\n",
    "sigmas = np.empty((len(symmetry_class), n_material))\n",
    "phis = np.empty((len(symmetry_class), n_material))\n",
    "\n",
    "tracker = np.arange(n_material)\n",
    "\n",
    "for i, sigma in enumerate(symmetry_class):\n",
    "\n",
    "    print(f'running minimizer for symmetry class: {sigma}')\n",
    "\n",
    "    distance_new = partial(distance, use_parallel_processing=False)\n",
    "    with concurrent.futures.ProcessPoolExecutor(max_workers=num_workers) as executor:\n",
    "        futures = list(executor.map(distance_new, c_vecs, [sigma]*n_material, tracker))\n",
    "\n",
    "    for j in range(n_material):\n",
    "        betas[i,j], thetas[i,j], sigmas[i,j], phis[i,j] = futures[j]"
   ],
   "metadata": {
    "collapsed": false
   }
  },
  {
   "cell_type": "code",
   "execution_count": null,
   "outputs": [],
   "source": [
    "def global_plot(values, title, figname=None,\n",
    "                reverse_cmap=False, vmin=None, vmax=None, ticks=None, extend='neither'):\n",
    "\n",
    "    fig = plt.figure(figsize=(10, 5))\n",
    "    ax = fig.add_subplot(1, 1, 1, projection=ccrs.Robinson())\n",
    "    ax.set_global()\n",
    "    ax.coastlines()\n",
    "\n",
    "    cmap = plt.get_cmap('jet').reversed()\n",
    "\n",
    "    if reverse_cmap:\n",
    "        cmap = cmap.reversed()\n",
    "\n",
    "    if vmin == None and vmax == None:\n",
    "        sc = ax.scatter(lons, lats, c=values[0,:],\n",
    "                        cmap=cmap, alpha=0.6, edgecolors='w', linewidth=0.5, transform=ccrs.PlateCarree())\n",
    "    else:\n",
    "        sc = ax.scatter(lons, lats, c=values[0,:], vmin=vmin, vmax=vmax,\n",
    "                        cmap=cmap, alpha=0.6, edgecolors='w', linewidth=0.5, transform=ccrs.PlateCarree())\n",
    "        \n",
    "    clb = plt.colorbar(sc, orientation='vertical', extend=extend, fraction=0.0235, pad=0.05)\n",
    "    if ticks is not None:\n",
    "        clb.set_ticks(ticks)\n",
    "    clb.ax.tick_params(labelsize=10)\n",
    "    ax.set_title(title, fontsize=20)\n",
    "    \n",
    "    if figname:\n",
    "        #plt.savefig(f'{figname}.png')\n",
    "        pass\n",
    "    \n",
    "    plt.show()"
   ],
   "metadata": {
    "collapsed": false
   }
  },
  {
   "cell_type": "code",
   "execution_count": null,
   "outputs": [],
   "source": [
    "# plot for betas\n",
    "\n",
    "parameter = betas\n",
    "title = r'$\\beta_{XISO}$ (°)'\n",
    "filename = 'betas'\n",
    "global_plot(parameter, title, filename, reverse_cmap=True, vmin=0, vmax=2.0, extend='max')"
   ],
   "metadata": {
    "collapsed": false
   }
  },
  {
   "cell_type": "code",
   "execution_count": null,
   "outputs": [],
   "source": [
    "# plot for thetas\n",
    "\n",
    "parameter = abs(np.cos(thetas))\n",
    "title = '|cos (azimuthal angle)|'\n",
    "filename = 'azimuthal_angle'\n",
    "global_plot(parameter, title, filename, vmin=0, vmax=1)"
   ],
   "metadata": {
    "collapsed": false
   }
  },
  {
   "cell_type": "code",
   "execution_count": null,
   "outputs": [],
   "source": [
    "# plot for betas with points corresponding to sub-vertical phis masked\n",
    "\n",
    "parameter = abs(np.cos(thetas))\n",
    "parameter[np.cos(2*phis)>0.5] = np.nan\n",
    "title = '|cos (azimuthal angle)|'\n",
    "filename = 'azimuthal_angle_subverticals_masked'\n",
    "global_plot(parameter, title, filename, vmin=0, vmax=1)"
   ],
   "metadata": {
    "collapsed": false
   }
  },
  {
   "cell_type": "code",
   "execution_count": null,
   "outputs": [],
   "source": [
    "# plot for sigmas\n",
    "\n",
    "parameter = sigmas*180/np.pi\n",
    "title = r'$\\sigma$ (°)'\n",
    "global_plot(parameter, title)"
   ],
   "metadata": {
    "collapsed": false
   }
  },
  {
   "cell_type": "code",
   "execution_count": null,
   "outputs": [],
   "source": [
    "# plot for phis\n",
    "\n",
    "parameter = np.cos(2*phis)\n",
    "title = f'cos (2 * polar angle)'\n",
    "filename = 'polar_angle'\n",
    "global_plot(parameter, title, filename, vmin=-1, vmax=1, ticks=np.arange(-1,1.1,0.2))"
   ],
   "metadata": {
    "collapsed": false
   }
  },
  {
   "cell_type": "code",
   "execution_count": null,
   "outputs": [],
   "source": [
    "# plot for anisotropy index (MSAT)\n",
    "\n",
    "data = sp.io.loadmat(r'Data/anisotropy_index_MSAT.mat')\n",
    "parameter = np.array(data['C'])\n",
    "title = 'universal_elastic_anisotropy_index'\n",
    "filename = title\n",
    "global_plot(parameter, title, filename, vmin=0, vmax=0.1, extend='max')"
   ],
   "metadata": {
    "collapsed": false
   }
  },
  {
   "cell_type": "code",
   "execution_count": null,
   "outputs": [],
   "source": [
    "# plot for proportion of hexagonality (MSAT)\n",
    "\n",
    "data = sp.io.loadmat(r'Data/hexagonality_MSAT.mat')\n",
    "parameter = np.array(data['H'])\n",
    "title = 'proportion_of_hexagonality'\n",
    "filename = title\n",
    "global_plot(parameter, title, filename, vmin=0, vmax=1)"
   ],
   "metadata": {
    "collapsed": false
   }
  },
  {
   "cell_type": "code",
   "execution_count": null,
   "outputs": [],
   "source": [
    "data = sp.io.loadmat(r'Data/hexagonality_MSAT.mat')\n",
    "x = np.array(data['H']).reshape(2556)\n",
    "y = betas.reshape(2556)\n",
    "\n",
    "number_of_bins = 20\n",
    "bins = np.linspace(0, 1, number_of_bins+1)\n",
    "bin_width = bins[1] - bins[0]\n",
    "index = np.digitize(x, bins[:-1]) - 1\n",
    "\n",
    "bin_mids = bins[:-1] + bin_width / 2\n",
    "\n",
    "running_median = np.array([np.median(y[index == i]) for i in range(number_of_bins)])\n",
    "running_mad = np.array([np.median(np.abs(y[index == i] - running_median[i])) for i in range(number_of_bins)])\n",
    "\n",
    "plt.figure(figsize=(6,6))\n",
    "plt.scatter(x, y)\n",
    "plt.plot(bin_mids, running_median, c='r')\n",
    "plt.plot(bin_mids, running_median + running_mad, 'r--')\n",
    "plt.plot(bin_mids, running_median - running_mad, 'r--')\n",
    "plt.xticks(np.linspace(0,1,11))\n",
    "plt.xlabel('proportion of hexagonality', fontsize=15)\n",
    "plt.ylabel(r'$\\beta_{XISO}$ (°)', fontsize=15)\n",
    "\n",
    "plt.savefig('beta_xiso_vs_hex.png')\n",
    "plt.show()"
   ],
   "metadata": {
    "collapsed": false
   }
  }
 ],
 "metadata": {
  "kernelspec": {
   "display_name": "Python 3",
   "language": "python",
   "name": "python3"
  },
  "language_info": {
   "codemirror_mode": {
    "name": "ipython",
    "version": 2
   },
   "file_extension": ".py",
   "mimetype": "text/x-python",
   "name": "python",
   "nbconvert_exporter": "python",
   "pygments_lexer": "ipython2",
   "version": "2.7.6"
  }
 },
 "nbformat": 4,
 "nbformat_minor": 0
}
