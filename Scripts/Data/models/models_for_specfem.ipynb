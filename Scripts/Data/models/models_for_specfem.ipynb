{
 "cells": [
  {
   "cell_type": "code",
   "execution_count": null,
   "metadata": {
    "collapsed": true
   },
   "outputs": [],
   "source": [
    "import sys\n",
    "\n",
    "import numpy as np\n",
    "\n",
    "sys.path.append('../../..')\n",
    "\n",
    "from change_of_basis import cmat_of_tmat\n",
    "from change_of_basis import tmat_of_cmat\n",
    "from materials import get_materials_Cvec\n",
    "from safe_module import closest\n",
    "from utilities import print_matrix_matlab\n",
    "from utilities import sm2v\n",
    "from utilities import v2sm"
   ]
  },
  {
   "cell_type": "code",
   "execution_count": null,
   "outputs": [],
   "source": [
    "write = False"
   ],
   "metadata": {
    "collapsed": false
   }
  },
  {
   "cell_type": "code",
   "execution_count": null,
   "outputs": [],
   "source": [
    "Cvec_Brown, Cvec_Brown_stdv, *_ = get_materials_Cvec(material=\"Brown\")"
   ],
   "metadata": {
    "collapsed": false
   }
  },
  {
   "cell_type": "code",
   "execution_count": null,
   "outputs": [],
   "source": [
    "Cmat_Brown = v2sm(Cvec_Brown)\n",
    "Tmat_Brown = tmat_of_cmat(Cmat_Brown)"
   ],
   "metadata": {
    "collapsed": false
   }
  },
  {
   "cell_type": "code",
   "execution_count": null,
   "outputs": [],
   "source": [
    "def footer(filename, c_vec):\n",
    "    \n",
    "    with open(filename, 'a') as f:\n",
    "        f.write('  if (iflag_aniso == IANISOTROPY_MODEL2) then\\n')\n",
    "        c = 0\n",
    "        for i in range(1,7):\n",
    "            for j in range(i,7):\n",
    "                f.write(f'    c{i}{j} = {c_vec[c]:17.12f} * 1d9\\n')\n",
    "                c += 1\n",
    "        f.write('  endif\\n')\n",
    "        f.write('\\n')\n",
    "        f.write('  end subroutine model_aniso')"
   ],
   "metadata": {
    "collapsed": false
   }
  },
  {
   "cell_type": "code",
   "execution_count": null,
   "outputs": [],
   "source": [
    "# Brown_SymGroup models\n",
    "\n",
    "node_sequence    = ['TRIV','MONO','ORTH','TET','XISO','ISO']\n",
    "\n",
    "Tmat_nodes = []\n",
    "for sigma in node_sequence:\n",
    "        print(f'adding node {sigma} ....')\n",
    "        if sigma == \"TRIV\":\n",
    "            Tmat_nodes.append(Tmat_Brown)\n",
    "        else:\n",
    "            Tmat_nodes.append(closest(Tmat_Brown, sigma))"
   ],
   "metadata": {
    "collapsed": false
   }
  },
  {
   "cell_type": "code",
   "execution_count": null,
   "outputs": [],
   "source": [
    "# Brown_SymGroups models\n",
    "\n",
    "symmetry_classes = ['trivial', 'monoclinic', 'orthorhombic', 'tetragonal',\n",
    "                    'transversely isotropic', 'isotropic']\n",
    "models = ['TRIV', 'MONO_TRIV', 'MONO', 'ORTH_MONO', 'ORTH', 'TET_ORTH', 'TET',\n",
    "          'XISO_TET', 'XISO', 'ISO_XISO', 'ISO']\n",
    "\n",
    "for i, model in enumerate(models):\n",
    "    \n",
    "    if write:\n",
    "        print(f'writing model {model} ....')\n",
    "        filename = f'model_aniso_{model}.f90'\n",
    "        ! cp model_aniso.f90 {filename}\n",
    "    else:\n",
    "        print(f'computing model {model} ....')\n",
    "    \n",
    "    if i%2==0:\n",
    "        j = round(i/2)\n",
    "        t_mat_test = Tmat_nodes[j]\n",
    "        if j==0:\n",
    "            textlines = ['! overwrite perturbation model 2 with the Brown2016'\n",
    "                         ' map\\n']\n",
    "        else:\n",
    "            textlines = [f'! overwrite perturbation model 2 with closest'\n",
    "                         f' {symmetry_classes[j]} map to the Brown2016 map\\n']\n",
    "    else:\n",
    "        j = round((i-1)/2)        \n",
    "        t_mat1 = Tmat_nodes[j]\n",
    "        t_mat2 = Tmat_nodes[j+1]\n",
    "        t_mat_test = 0.5 * t_mat1 + 0.5 * t_mat2\n",
    "        textlines = [f'! overwrite perturbation model 2 with map halfway'\n",
    "                     f' between closest {symmetry_classes[j+1]} and'\n",
    "                     f' {symmetry_classes[j]} map',\n",
    "                     '! to the Brown2016 map\\n']\n",
    "\n",
    "    if write:\n",
    "        with open(filename, 'a') as f:\n",
    "            for textline in textlines:\n",
    "                f.write(f'\\n{textline}')\n",
    "        \n",
    "    c_mat_test = cmat_of_tmat(t_mat_test)   \n",
    "    c_vec_test = sm2v(c_mat_test)\n",
    "    \n",
    "    if write:\n",
    "        footer(filename, c_vec_test)    \n",
    "        ! mv {filename} Brown_SymGroups/.\n",
    "    \n",
    "    print(f'printing model {model} ....')    \n",
    "    print_matrix_matlab(c_mat_test)"
   ],
   "metadata": {
    "collapsed": false
   }
  },
  {
   "cell_type": "code",
   "execution_count": null,
   "outputs": [],
   "source": [
    "# Brown_t20 models\n",
    "\n",
    "t_mat1 = Tmat_Brown\n",
    "t_mat2 = closest(Tmat_Brown, 'ISO')\n",
    "\n",
    "models_2 = ['160', '140', '120', '100', '80', '60', '40', '20', '00']\n",
    "t_min    = -3/5\n",
    "t_max    = 1\n",
    "dt       = 1/5\n",
    "npts     = round( (t_max - t_min) / dt + 1 )\n",
    "frac     = np.linspace(t_min,t_max,npts)\n",
    "\n",
    "# models_2 = ['160', '150', '140', '130', '120', '110', '100', '90', '80',\n",
    "#             '70', '60', '50', '40', '30', '20', '10', '00']\n",
    "# frac     = np.arange(-6,11) / 10\n",
    "\n",
    "for i, model in enumerate(models_2):\n",
    "    \n",
    "    if write:\n",
    "        print(f'writing model t{model} ....')\n",
    "        filename = f'model_aniso_t{model}.f90'\n",
    "        ! cp model_aniso.f90 {filename}\n",
    "        \n",
    "    if model == '00':\n",
    "        textlines = ['! overwrite perturbation model 2 with closest isotropic'\n",
    "                     ' map to the Brown2016 map\\n']\n",
    "    elif model == '100':\n",
    "        textlines = ['! overwrite perturbation model 2 with the Brown2016'\n",
    "                     'map\\n']\n",
    "    else:\n",
    "        textlines = [f'! overwrite perturbation model 2 with map with {model}%'\n",
    "                     ' anisotropy of Brown2016 map\\n']\n",
    "    \n",
    "    if write:\n",
    "        with open(filename, 'a') as f:\n",
    "            for textline in textlines:\n",
    "                f.write(f'\\n{textline}')\n",
    "        \n",
    "    t_mat_test = (1-frac[i]) * t_mat1 + (frac[i]) * t_mat2\n",
    "    c_mat_test = cmat_of_tmat(t_mat_test)\n",
    "    c_vec_test = sm2v(c_mat_test)\n",
    "        \n",
    "    if write:\n",
    "        footer(filename, c_vec_test)\n",
    "        ! mv {filename} Brown_t20/."
   ],
   "metadata": {
    "collapsed": false
   }
  }
 ],
 "metadata": {
  "kernelspec": {
   "display_name": "Python 3",
   "language": "python",
   "name": "python3"
  },
  "language_info": {
   "codemirror_mode": {
    "name": "ipython",
    "version": 2
   },
   "file_extension": ".py",
   "mimetype": "text/x-python",
   "name": "python",
   "nbconvert_exporter": "python",
   "pygments_lexer": "ipython2",
   "version": "2.7.6"
  }
 },
 "nbformat": 4,
 "nbformat_minor": 0
}
