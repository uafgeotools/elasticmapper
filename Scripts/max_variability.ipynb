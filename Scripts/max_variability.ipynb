{
 "cells": [
  {
   "cell_type": "code",
   "execution_count": null,
   "id": "initial_id",
   "metadata": {
    "collapsed": true
   },
   "outputs": [],
   "source": [
    "import concurrent.futures\n",
    "from functools import partial\n",
    "from glob import glob\n",
    "import os\n",
    "\n",
    "import matplotlib.pyplot as plt\n",
    "import numpy as np\n",
    "from obspy import Stream\n",
    "from pysep.utils.io import read_sem"
   ]
  },
  {
   "cell_type": "code",
   "execution_count": null,
   "outputs": [],
   "source": [
    "write = False"
   ],
   "metadata": {
    "collapsed": false
   },
   "id": "f635d92f4b6802fe"
  },
  {
   "cell_type": "code",
   "execution_count": null,
   "outputs": [],
   "source": [
    "map = 'Brown'\n",
    "database_type = 'SymGroups'\n",
    "#database_type = 't20'"
   ],
   "metadata": {
    "collapsed": false
   },
   "id": "81d642d22590f0ed"
  },
  {
   "cell_type": "code",
   "execution_count": null,
   "outputs": [],
   "source": [
    "if database_type == 'SymGroups':\n",
    "    models = ['ISO', 'XISO']\n",
    "    #models = ['MONO', 'TRIV']    # choose only two model types\n",
    "elif database_type == 't20':\n",
    "    models = ['t80', 't100']    # choose only two model types\n",
    "\n",
    "database_loc = f'/scratch/agupta7/specfem/rectangular_grid/{map}_{database_type}' \n",
    "\n",
    "source_file = f'{database_loc}/{models[0]}/OUTPUT_FILES/CMTSOLUTION'\n",
    "stations_file = f'{database_loc}/{models[0]}/OUTPUT_FILES/STATIONS_FILTERED'\n",
    "\n",
    "time_length_s = 40 # corresponds to -1s to 39s of data"
   ],
   "metadata": {
    "collapsed": false
   },
   "id": "25a136184d6095df"
  },
  {
   "cell_type": "code",
   "execution_count": null,
   "outputs": [],
   "source": [
    "st_list = []\n",
    "workers = os.cpu_count()\n",
    "read_sem_new = partial(read_sem, source=source_file, stations=stations_file)\n",
    "\n",
    "for model in models:   \n",
    "    print(f'loading data for model: {model}')\n",
    "    \n",
    "    fids = []\n",
    "    for fid in glob(f'{database_loc}/{model}/OUTPUT_FILES/seismograms/*R*'):\n",
    "        fids.append(fid)\n",
    "    \n",
    "    with concurrent.futures.ProcessPoolExecutor(max_workers=workers) as executor:\n",
    "        data = list(executor.map(read_sem_new, fids))\n",
    "    \n",
    "    st = Stream()\n",
    "    for st_data in data:\n",
    "        st += st_data\n",
    "    st_list.append(st)"
   ],
   "metadata": {
    "collapsed": false
   },
   "id": "c2f61ffee6aee78a"
  },
  {
   "cell_type": "code",
   "execution_count": null,
   "outputs": [],
   "source": [
    "for st in st_list:\n",
    "    for tr in st:\n",
    "        t1 = tr.stats.starttime\n",
    "        t2 = t1 + time_length_s\n",
    "        tr.trim(t1,t2)\n",
    "        \n",
    "st_mono = st_list[0].copy().differentiate()\n",
    "st_triv = st_list[1].copy().differentiate()"
   ],
   "metadata": {
    "collapsed": false
   },
   "id": "e494caae11d03e9b"
  },
  {
   "cell_type": "code",
   "execution_count": null,
   "outputs": [],
   "source": [
    "stations_info = np.genfromtxt(stations_file, dtype=str)\n",
    "\n",
    "stations = stations_info[:,0]\n",
    "latitudes = np.array([float(i) for i in stations_info[:,2]])\n",
    "longitudes = np.array([float(i) for i in stations_info[:,3]])\n",
    "\n",
    "mask = np.char.startswith(stations, 'C')\n",
    "\n",
    "stations = stations[~mask]\n",
    "latitudes = latitudes[~mask]\n",
    "longitudes = longitudes[~mask]\n",
    "\n",
    "integral = np.zeros(len(stations))\n",
    "for i, station in enumerate(stations):\n",
    "    \n",
    "    st1 = st_mono.select(station=station)\n",
    "    st2 = st_triv.select(station=station)\n",
    "    \n",
    "    velocity = np.zeros(st1[0].stats.npts)\n",
    "    for component in ['Z','Y','X']:\n",
    "        v1 = st1.select(component=component)[0].data\n",
    "        v2 = st2.select(component=component)[0].data\n",
    "        velocity += (v1 - v2) ** 2\n",
    "    velocity = np.sqrt(velocity)\n",
    "    integral[i] = np.trapz(velocity)"
   ],
   "metadata": {
    "collapsed": false
   },
   "id": "f1e834235bd978a4"
  },
  {
   "cell_type": "code",
   "execution_count": null,
   "outputs": [],
   "source": [
    "indices = np.argsort(integral)[::-1]\n",
    "\n",
    "sorted_stations = stations[indices]\n",
    "sorted_integrals = integral[indices]\n",
    "sorted_latitudes = latitudes[indices]\n",
    "sorted_longitudes = longitudes[indices]"
   ],
   "metadata": {
    "collapsed": false
   },
   "id": "8473c07c64fce42"
  },
  {
   "cell_type": "code",
   "execution_count": null,
   "outputs": [],
   "source": [
    "components = ['Z','Y','X']\n",
    "vp = np.sqrt(118.3333E9/3378)\n",
    "vs = np.sqrt(41.4333E9/3378)\n",
    "\n",
    "for station in sorted_stations[:1]:\n",
    "\n",
    "    st1 = st_mono.select(station=station)\n",
    "    st2 = st_triv.select(station=station)\n",
    "    \n",
    "    x1 = st1[0].stats.sac['stlo']\n",
    "    y1 = st1[0].stats.sac['stla']\n",
    "    x2 = st1[0].stats.sac['evlo']\n",
    "    y2 = st1[0].stats.sac['evla']\n",
    "    \n",
    "    evdp = 75000 # should be read in from the sac header\n",
    "    \n",
    "    source_station_distance = np.sqrt( (y2-y1)**2 + (x2-x1)**2 + evdp**2 )\n",
    "    \n",
    "    tp = source_station_distance / vp\n",
    "    ts = source_station_distance / vs\n",
    "    \n",
    "    fig, axs = plt.subplots(3,1,figsize=(10,20)) \n",
    "    max_velocity = 0\n",
    "    for i, component in enumerate(components):\n",
    "        tr1 = st1.select(component=component)[0]\n",
    "        tr2 = st2.select(component=component)[0]\n",
    "        axs[i].plot(tr1.times(), tr1.data, c='r', label=f'{models[0]}')\n",
    "        axs[i].plot(tr2.times(), tr2.data, c='k', label=f'{models[1]}') \n",
    "        axs[i].axvline(x=tp, color='b', linestyle='--')\n",
    "        axs[i].axvline(x=ts, color='b', linestyle='--')\n",
    "        axs[i].set_title(f'component = {component}')\n",
    "        axs[i].set_xlabel('time (s)')\n",
    "        axs[i].set_ylabel('velocity (m/s)')\n",
    "        axs[i].legend()\n",
    "        max_velocity = max([max_velocity, max(tr1.data, key=abs), max(tr2.data, key=abs)]) \n",
    "    \n",
    "    for i, _ in enumerate(components):\n",
    "        axs[i].set_ylim([-1.1 * max_velocity, 1.1 * max_velocity])\n",
    "        \n",
    "    fig.suptitle(f'{station}')\n",
    "    \n",
    "    if write: plt.savefig(f'max_variability_seismograms_{database_type}.png', bbox_inches='tight')\n",
    "        \n",
    "    plt.show()"
   ],
   "metadata": {
    "collapsed": false
   },
   "id": "d22f008df52dd764"
  },
  {
   "cell_type": "code",
   "execution_count": null,
   "outputs": [],
   "source": [
    "plt.figure(figsize=(10,10))\n",
    "plt.scatter(sorted_longitudes, sorted_latitudes, c=sorted_integrals, s=30)\n",
    "plt.colorbar()\n",
    "plt.axis('equal')\n",
    "\n",
    "if write: plt.savefig(f'variability_scatter_{models[0]}_vs_{models[1]}.png', bbox_inches='tight')\n",
    "    \n",
    "plt.show()"
   ],
   "metadata": {
    "collapsed": false
   },
   "id": "dd2539c4697c1464"
  }
 ],
 "metadata": {
  "kernelspec": {
   "display_name": "Python 3",
   "language": "python",
   "name": "python3"
  },
  "language_info": {
   "codemirror_mode": {
    "name": "ipython",
    "version": 2
   },
   "file_extension": ".py",
   "mimetype": "text/x-python",
   "name": "python",
   "nbconvert_exporter": "python",
   "pygments_lexer": "ipython2",
   "version": "2.7.6"
  }
 },
 "nbformat": 4,
 "nbformat_minor": 5
}
